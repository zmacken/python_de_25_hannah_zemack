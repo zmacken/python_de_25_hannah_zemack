{
 "cells": [
  {
   "cell_type": "markdown",
   "id": "08668b67",
   "metadata": {},
   "source": [
    "0. Unit conversion\n",
    "Create a class for converting US units to the metric system. It should have the following bound methods:\n",
    "\n",
    "__init__ (self, value)\n",
    "\n",
    "inch_to_cm(self)\n",
    "\n",
    "foot_to_meters(self)\n",
    "\n",
    "pound_to_kg(self)\n",
    "\n",
    "__repr__(self)\n",
    "Make sure that value is the correct type and format, raise suitable exceptions in case it isn't. Make value into property with getter and setter. Test your class manually by instantiating an object from it and test different methods. (*)"
   ]
  },
  {
   "cell_type": "code",
   "execution_count": null,
   "id": "a30bdf0f",
   "metadata": {},
   "outputs": [
    {
     "name": "stdout",
     "output_type": "stream",
     "text": [
      "2.54\n",
      "0.3048\n",
      "0.45359237\n"
     ]
    }
   ],
   "source": [
    "class UnitConverter:\n",
    "    def __init__(self, value):\n",
    "        self.value = value\n",
    "\n",
    "    @property \n",
    "    def value(self):\n",
    "        return self._value\n",
    "    \n",
    "    @value.setter\n",
    "    def value(self, val):\n",
    "        \"\"\"Setter that validates the input.\"\"\"\n",
    "        if not isinstance(val, (int, float)):\n",
    "            raise TypeError(f\"Value must be int or float, got {type(val).__name__}.\")\n",
    "        if val < 0:\n",
    "            raise ValueError(\"Value must be non-negative.\")\n",
    "        self._value = float(val)\n",
    "    \n",
    "    def inch_to_cm(self):\n",
    "        return self.value * 2.54\n",
    "\n",
    "    def foot_to_meters(self):\n",
    "        return self.value * 0.3048\n",
    "\n",
    "    def pound_to_kg(self):\n",
    "        return self.value * 0.45359237\n",
    "    \n",
    "    def __repr__(self):\n",
    "        f\"UnitConverter(value={self.value})\"\n",
    "\n",
    "number = UnitConverter(1)\n",
    "print(number.inch_to_cm())\n",
    "print(number.foot_to_meters())\n",
    "print(number.pound_to_kg())"
   ]
  },
  {
   "cell_type": "markdown",
   "id": "a6b0d5eb",
   "metadata": {},
   "source": [
    "1. Person (*)\n",
    "Create a class named Person, with parameterized constructor with the following parameters:\n",
    "\n",
    "name\n",
    "age\n",
    "email\n",
    "Turn name, age, email into properties with following validations in their setters:\n",
    "\n",
    "name - must be string\n",
    "age - must be number between 0 and 125\n",
    "email - must include an @ sign\n",
    "It should also have __repr__ method to represent the Person class in a neat way.\n",
    "\n",
    "Also create a method say_hello() that prints"
   ]
  },
  {
   "cell_type": "code",
   "execution_count": null,
   "id": "4b87574f",
   "metadata": {},
   "outputs": [],
   "source": [
    "class Person:\n",
    "    def __init__(self, name, age, email):\n",
    "        self._name = name\n",
    "        self._age = age\n",
    "        self._email = email\n",
    "    \n",
    "    @property\n",
    "    def name(self):\n",
    "        "
   ]
  }
 ],
 "metadata": {
  "kernelspec": {
   "display_name": "python_de_25_hannah_zemack",
   "language": "python",
   "name": "python3"
  },
  "language_info": {
   "codemirror_mode": {
    "name": "ipython",
    "version": 3
   },
   "file_extension": ".py",
   "mimetype": "text/x-python",
   "name": "python",
   "nbconvert_exporter": "python",
   "pygments_lexer": "ipython3",
   "version": "3.12.10"
  }
 },
 "nbformat": 4,
 "nbformat_minor": 5
}
