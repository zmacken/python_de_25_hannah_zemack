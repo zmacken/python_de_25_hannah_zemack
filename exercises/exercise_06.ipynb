{
 "cells": [
  {
   "cell_type": "markdown",
   "id": "08668b67",
   "metadata": {},
   "source": [
    "0. Unit conversion\n",
    "Create a class for converting US units to the metric system. It should have the following bound methods:\n",
    "\n",
    "__init__ (self, value)\n",
    "\n",
    "inch_to_cm(self)\n",
    "\n",
    "foot_to_meters(self)\n",
    "\n",
    "pound_to_kg(self)\n",
    "\n",
    "__repr__(self)\n",
    "Make sure that value is the correct type and format, raise suitable exceptions in case it isn't. Make value into property with getter and setter. Test your class manually by instantiating an object from it and test different methods. (*)"
   ]
  },
  {
   "cell_type": "code",
   "execution_count": 2,
   "id": "a30bdf0f",
   "metadata": {},
   "outputs": [
    {
     "name": "stdout",
     "output_type": "stream",
     "text": [
      "2.54\n",
      "0.3048\n",
      "0.45359237\n"
     ]
    }
   ],
   "source": [
    "class UnitConverter:\n",
    "    def __init__(self, value):\n",
    "        self.value = value\n",
    "\n",
    "    @property \n",
    "    def value(self):\n",
    "        return self._value\n",
    "    \n",
    "    @value.setter\n",
    "    def value(self, val):\n",
    "        \"\"\"Setter that validates the input.\"\"\"\n",
    "        if not isinstance(val, (int, float)):\n",
    "            raise TypeError(f\"Value must be int or float, got {type(val).__name__}.\")\n",
    "        if val < 0:\n",
    "            raise ValueError(\"Value must be non-negative.\")\n",
    "        self._value = float(val)\n",
    "    \n",
    "    def inch_to_cm(self):\n",
    "        return self.value * 2.54\n",
    "\n",
    "    def foot_to_meters(self):\n",
    "        return self.value * 0.3048\n",
    "\n",
    "    def pound_to_kg(self):\n",
    "        return self.value * 0.45359237\n",
    "    \n",
    "    def __repr__(self):\n",
    "        f\"UnitConverter(value={self.value})\"\n",
    "\n",
    "number = UnitConverter(1)\n",
    "print(number.inch_to_cm())\n",
    "print(number.foot_to_meters())\n",
    "print(number.pound_to_kg())"
   ]
  },
  {
   "cell_type": "markdown",
   "id": "a6b0d5eb",
   "metadata": {},
   "source": [
    "1. Person (*)\n",
    "Create a class named Person, with parameterized constructor with the following parameters:\n",
    "\n",
    "name\n",
    "age\n",
    "email\n",
    "Turn name, age, email into properties with following validations in their setters:\n",
    "\n",
    "name - must be string\n",
    "age - must be number between 0 and 125\n",
    "email - must include an @ sign\n",
    "It should also have __repr__ method to represent the Person class in a neat way.\n",
    "\n",
    "Also create a method say_hello() that prints"
   ]
  },
  {
   "cell_type": "code",
   "execution_count": 3,
   "id": "4b87574f",
   "metadata": {},
   "outputs": [
    {
     "name": "stdout",
     "output_type": "stream",
     "text": [
      "Hello, my name is Hannah and I am 23 years old.\n"
     ]
    },
    {
     "data": {
      "text/plain": [
       "Person(Name: Hannah, Age: 23, Email: hannah.zemack@gmail.com)"
      ]
     },
     "execution_count": 3,
     "metadata": {},
     "output_type": "execute_result"
    }
   ],
   "source": [
    "class Person:\n",
    "    def __init__(self, name, age, email):\n",
    "        self.name = name\n",
    "        self.age = age\n",
    "        self.email = email\n",
    "    \n",
    "    @property\n",
    "    def name(self):\n",
    "        return self._name \n",
    "    \n",
    "    @name.setter\n",
    "    def name(self, value):\n",
    "        if not isinstance(value, str):\n",
    "            raise TypeError ('It has to be a string')\n",
    "        self._name = value\n",
    "    \n",
    "    @property\n",
    "    def age(self):\n",
    "        return self._age\n",
    "    \n",
    "    @age.setter\n",
    "    def age(self, value):\n",
    "        if not 0 < value < 125:\n",
    "            raise ValueError (f'Age has to be between 0 and 125, your number is {value}')\n",
    "        self._age = value\n",
    "\n",
    "    @property\n",
    "    def email(self):\n",
    "        return self._email\n",
    "    \n",
    "    @email.setter\n",
    "    def email(self, value):\n",
    "        if not isinstance(value, str):\n",
    "            raise TypeError ('It has to be a string')\n",
    "        if '@' not in value:\n",
    "            raise ValueError ('An email must contain @')\n",
    "        self._email = value\n",
    "    \n",
    "    def __repr__(self):\n",
    "        return f'Person(Name: {self.name}, Age: {self.age}, Email: {self.email})'\n",
    "    \n",
    "    def say_hello(self):\n",
    "        print(f'Hello, my name is {self.name} and I am {self.age} years old.')\n",
    "\n",
    "person1 = Person('Hannah', 23, 'hannah.zemack@gmail.com')\n",
    "\n",
    "person1.say_hello()\n",
    "person1\n",
    "    \n"
   ]
  },
  {
   "cell_type": "markdown",
   "id": "5e5e6f5b",
   "metadata": {},
   "source": [
    "2. Create two classes named Student and Teacher that inherits from Person.\n",
    "\n",
    "The Student class shall have:\n",
    "\n",
    "study() method that prints out\n",
    "study...study...study...more study\n",
    "override say_hello() with the following message:\n",
    "Yo, I am a student, my name is ..., I am ... years old, my email address is ...\n",
    "The Teacher class shall have:\n",
    "\n",
    "teach() method that prints out\n",
    "teach...teach...teach...more teaching\n",
    "Instantiate a Teacher object and a Student object. Call\n",
    "\n",
    "teach() and say_hello() methods from your Teacher object.\n",
    "study() and say_hello() methods from your Student object.\n"
   ]
  },
  {
   "cell_type": "code",
   "execution_count": null,
   "id": "a0356c5d",
   "metadata": {},
   "outputs": [
    {
     "data": {
      "text/plain": [
       "'I am a student, my name is Lea, I am 22 years old, my email adress is lea@lea.se'"
      ]
     },
     "execution_count": 5,
     "metadata": {},
     "output_type": "execute_result"
    }
   ],
   "source": [
    "class Student(Person):\n",
    "    def __init__(self, name, age, email):\n",
    "        super().__init__(name, age, email)\n",
    "    \n",
    "    def study(self):\n",
    "        print('study...study...study...more study')\n",
    "    \n",
    "    def say_hello(self):\n",
    "        return f'I am a student, my name is {self.name}, I am {self.age} years old, my email adress is {self.email}'\n",
    "    \n",
    "    def __repr__(self):\n",
    "        return super().__repr__()\n",
    "    \n",
    "class Teacher(Person):\n",
    "    def __init__(self, name, age, email):\n",
    "        super().__init__(name, age, email)\n",
    "\n",
    "    def teach(self):\n",
    "        print (f'teach...teach...teach...more teaching')\n",
    "    \n",
    "    def say_hello(self):\n",
    "        return super().say_hello()\n",
    "    \n",
    "    def __repr__(self):\n",
    "        return super().__repr__()\n",
    "\n",
    "\n"
   ]
  }
 ],
 "metadata": {
  "kernelspec": {
   "display_name": "python_de_25_hannah_zemack",
   "language": "python",
   "name": "python3"
  },
  "language_info": {
   "codemirror_mode": {
    "name": "ipython",
    "version": 3
   },
   "file_extension": ".py",
   "mimetype": "text/x-python",
   "name": "python",
   "nbconvert_exporter": "python",
   "pygments_lexer": "ipython3",
   "version": "3.12.10"
  }
 },
 "nbformat": 4,
 "nbformat_minor": 5
}
