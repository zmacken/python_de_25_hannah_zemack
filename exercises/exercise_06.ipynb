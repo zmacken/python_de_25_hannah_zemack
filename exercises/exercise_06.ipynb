{
 "cells": [
  {
   "cell_type": "markdown",
   "id": "08668b67",
   "metadata": {},
   "source": [
    "0. Unit conversion\n",
    "Create a class for converting US units to the metric system. It should have the following bound methods:\n",
    "\n",
    "__init__ (self, value)\n",
    "\n",
    "inch_to_cm(self)\n",
    "\n",
    "foot_to_meters(self)\n",
    "\n",
    "pound_to_kg(self)\n",
    "\n",
    "__repr__(self)\n",
    "Make sure that value is the correct type and format, raise suitable exceptions in case it isn't. Make value into property with getter and setter. Test your class manually by instantiating an object from it and test different methods. (*)"
   ]
  },
  {
   "cell_type": "code",
   "execution_count": null,
   "id": "a30bdf0f",
   "metadata": {},
   "outputs": [],
   "source": [
    "class UnitConverter:\n",
    "    def __init__(self, value):\n",
    "        self.value = value\n",
    "\n",
    "    @property\n",
    "    def value(self):\n"
   ]
  }
 ],
 "metadata": {
  "kernelspec": {
   "display_name": "python_de_25_hannah_zemack",
   "language": "python",
   "name": "python3"
  },
  "language_info": {
   "name": "python",
   "version": "3.12.10"
  }
 },
 "nbformat": 4,
 "nbformat_minor": 5
}
