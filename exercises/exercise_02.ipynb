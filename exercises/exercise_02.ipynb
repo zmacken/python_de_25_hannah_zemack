{
 "cells": [
  {
   "cell_type": "markdown",
   "id": "85d8147a",
   "metadata": {},
   "source": [
    "# 0. Check sign (*)"
   ]
  },
  {
   "cell_type": "markdown",
   "id": "9a6a8fba",
   "metadata": {},
   "source": [
    "Ask the user to input a number and check if this number is positive, negative or zero and print it out."
   ]
  },
  {
   "cell_type": "code",
   "execution_count": 3,
   "id": "aac3ed8f",
   "metadata": {},
   "outputs": [
    {
     "name": "stdout",
     "output_type": "stream",
     "text": [
      "Nummret du har angivit är negativt\n"
     ]
    }
   ],
   "source": [
    "number = float(input(\"Skriv ett nummer: \"))\n",
    "\n",
    "if number > 0:\n",
    "    print(\"Nummret du har angett är positivt\")\n",
    "elif number < 0:\n",
    "    print(\"Nummret du har angivit är negativt\")\n",
    "else:\n",
    "    print(\"Du har angivit 0\")"
   ]
  },
  {
   "cell_type": "markdown",
   "id": "d4d3efa4",
   "metadata": {},
   "source": [
    "# 1. Smallest (*)"
   ]
  },
  {
   "cell_type": "markdown",
   "id": "8c4d4617",
   "metadata": {},
   "source": [
    "Ask the user to input two numbers and check which one is the smallest and print it out."
   ]
  },
  {
   "cell_type": "code",
   "execution_count": 7,
   "id": "725047bf",
   "metadata": {},
   "outputs": [
    {
     "name": "stdout",
     "output_type": "stream",
     "text": [
      " 1 är det minsta nummret\n"
     ]
    }
   ],
   "source": [
    "number1 = float(input(\"Skriv in det första nummret: \"))\n",
    "number2 = float(input(\"Skriv in det andra nummret: \"))\n",
    "\n",
    "if number1 > number2:\n",
    "    print(f\"{number2: .0f} är det minsta nummret\")\n",
    "else:\n",
    "    print(f\"{number1: .0f} är det minsta nummret\")"
   ]
  },
  {
   "cell_type": "markdown",
   "id": "9814e5f2",
   "metadata": {},
   "source": [
    "# 2. Medicine (*)"
   ]
  },
  {
   "cell_type": "markdown",
   "id": "41f5881d",
   "metadata": {},
   "source": [
    "The information in the following table is stated in a medicine package. Also it is stated that for children weight is more important than age."
   ]
  },
  {
   "cell_type": "code",
   "execution_count": null,
   "id": "3e7f5448",
   "metadata": {},
   "outputs": [],
   "source": []
  },
  {
   "cell_type": "markdown",
   "id": "cf998e59",
   "metadata": {},
   "source": [
    "# 3. Divisible (*)"
   ]
  },
  {
   "cell_type": "markdown",
   "id": "915d0b05",
   "metadata": {},
   "source": [
    "Let the user input a number. Check if the number is\n",
    "\n",
    "1even or odd\n",
    "2is divisible by 5\n",
    "3is divisble by 5 and odd"
   ]
  },
  {
   "cell_type": "code",
   "execution_count": 9,
   "id": "820046b2",
   "metadata": {},
   "outputs": [
    {
     "name": "stdout",
     "output_type": "stream",
     "text": [
      "1, 25.0 är ojämnt\n",
      "2, 25.0 är delbart med 5\n",
      "3, false\n"
     ]
    }
   ],
   "source": [
    "number_in = float(input(\"skriv ett nummer: \"))\n",
    "\n",
    "if number_in % 2 == 0:\n",
    "    print(f\"1, {number_in} är jämnt\")\n",
    "else:\n",
    "    print(f\"1, {number_in} är ojämnt\")\n",
    "\n",
    "if number_in % 5 == 0:\n",
    "    print(f\"2, {number_in} är delbart med 5\")\n",
    "else:\n",
    "    print(f\"2, {number_in} är inte delbart med 5\")\n",
    "\n",
    "if number_in % 5 == 0 and number_in % 2 == 0:\n",
    "    print(\"3, true\")\n",
    "else:\n",
    "    print(\"3, false\")"
   ]
  },
  {
   "cell_type": "markdown",
   "id": "7b34139c",
   "metadata": {},
   "source": [
    "# 4. Luggage size (*)"
   ]
  },
  {
   "cell_type": "markdown",
   "id": "5d54d6ea",
   "metadata": {},
   "source": [
    "The maximum allowed luggage size for boarding an airplane is:\n",
    "\n",
    "weight: 8kg\n",
    "dimensions: 55x40x23cm (length x width x height)\n",
    "Let the user input weight, length, width and height of the luggage. The program should check if the luggage is allowed or not."
   ]
  },
  {
   "cell_type": "code",
   "execution_count": null,
   "id": "bb170577",
   "metadata": {},
   "outputs": [
    {
     "name": "stdout",
     "output_type": "stream",
     "text": [
      "väskan är tillåten\n"
     ]
    }
   ],
   "source": [
    "#weight = int(input(\"Skriv in vikt: \"))\n",
    "#length = int(input(\"Skriv in längd: \"))\n",
    "#width = int(input(\"skriv in bredd: \"))\n",
    "#height = int(input(\"Skriv in höjd: \"))\n",
    "\n",
    "if weight <= 8 and length <= 55 and width <= 40 and height <= 23:\n",
    "    print(\"väskan är tillåten\")\n",
    "else:\n",
    "    print(\"väskan är inte tillåten\")\n",
    "    "
   ]
  },
  {
   "cell_type": "code",
   "execution_count": 20,
   "id": "4b442f81",
   "metadata": {},
   "outputs": [
    {
     "name": "stdout",
     "output_type": "stream",
     "text": [
      "väskan är tillåten\n"
     ]
    }
   ],
   "source": [
    "#with nested if statements\n",
    "weight = int(input(\"Skriv in vikt: \"))\n",
    "\n",
    "if weight <= 8:\n",
    "    length = int(input(\"Skriv in längd: \"))\n",
    "    width = int(input(\"skriv in bredd: \"))\n",
    "    height = int(input(\"Skriv in höjd: \"))\n",
    "    if length <= 55 and width <= 40 and height <= 23:\n",
    "        print(\"väskan är tillåten\")\n",
    "    else:\n",
    "        print(\"väskan är inte tillåten\")\n",
    "else:\n",
    "    print(\"väskan är inte tillåten\")\n"
   ]
  },
  {
   "cell_type": "markdown",
   "id": "950250e9",
   "metadata": {},
   "source": [
    "# 5. Count numbers (*)"
   ]
  },
  {
   "cell_type": "markdown",
   "id": "eec1525c",
   "metadata": {},
   "source": [
    "Use a for statement to count from:\n",
    "\n",
    "a)   -10 to 10 with one increment (*)\n",
    "\n",
    "b)   -10 to 10 with two increment (*)"
   ]
  },
  {
   "cell_type": "code",
   "execution_count": 21,
   "id": "ca515ba2",
   "metadata": {},
   "outputs": [
    {
     "name": "stdout",
     "output_type": "stream",
     "text": [
      "-10\n",
      "-9\n",
      "-8\n",
      "-7\n",
      "-6\n",
      "-5\n",
      "-4\n",
      "-3\n",
      "-2\n",
      "-1\n",
      "0\n",
      "1\n",
      "2\n",
      "3\n",
      "4\n",
      "5\n",
      "6\n",
      "7\n",
      "8\n",
      "9\n",
      "10\n"
     ]
    }
   ],
   "source": [
    "for i in range(-10, 11, 1):\n",
    "    print(i)"
   ]
  },
  {
   "cell_type": "code",
   "execution_count": 22,
   "id": "3deea646",
   "metadata": {},
   "outputs": [
    {
     "name": "stdout",
     "output_type": "stream",
     "text": [
      "-10\n",
      "-8\n",
      "-6\n",
      "-4\n",
      "-2\n",
      "0\n",
      "2\n",
      "4\n",
      "6\n",
      "8\n",
      "10\n"
     ]
    }
   ],
   "source": [
    "for i in range (-10, 11, 2):\n",
    "    print(i)"
   ]
  },
  {
   "cell_type": "markdown",
   "id": "5ba95c2d",
   "metadata": {},
   "source": [
    "# 5"
   ]
  },
  {
   "cell_type": "markdown",
   "id": "ec797dea",
   "metadata": {},
   "source": []
  },
  {
   "cell_type": "markdown",
   "id": "78e08fe9",
   "metadata": {},
   "source": [
    "# 6"
   ]
  },
  {
   "cell_type": "code",
   "execution_count": 29,
   "id": "c920d7f4",
   "metadata": {},
   "outputs": [
    {
     "name": "stdout",
     "output_type": "stream",
     "text": [
      "Rätt\n",
      "Fel. Rätt svar är 54\n",
      "Rätt\n",
      "Rätt\n",
      "Rätt\n",
      "Rätt\n",
      "Din poäng blev 5\n"
     ]
    }
   ],
   "source": [
    "import random as rnd\n",
    "score = 0\n",
    "\n",
    "while True:\n",
    "\n",
    "    x = rnd.randint(1, 10)\n",
    "    y = rnd.randint(1, 10)\n",
    "\n",
    "    answer = x * y\n",
    "\n",
    "    user_answer = int(input(f\"Vad blir produkten om du mulitplicerar {x} och {y}\"))\n",
    "\n",
    "    if answer == user_answer:\n",
    "        print(\"Rätt\")\n",
    "        score += 1\n",
    "    else:\n",
    "        print(f\"Fel. Rätt svar är {answer}\")\n",
    "    \n",
    "    play_again = input(\"Vill du spela igen? (j för ja)\")\n",
    "\n",
    "    if play_again != \"j\":\n",
    "        print(f\"Din poäng blev {score}\")\n",
    "        break"
   ]
  },
  {
   "cell_type": "markdown",
   "id": "d7b32017",
   "metadata": {},
   "source": [
    "# 7"
   ]
  },
  {
   "cell_type": "code",
   "execution_count": null,
   "id": "1f7f34cd",
   "metadata": {},
   "outputs": [],
   "source": []
  },
  {
   "cell_type": "markdown",
   "id": "84114a54",
   "metadata": {},
   "source": [
    "# 8"
   ]
  },
  {
   "cell_type": "code",
   "execution_count": 30,
   "id": "1096ab36",
   "metadata": {},
   "outputs": [
    {
     "name": "stdout",
     "output_type": "stream",
     "text": [
      "Antal riskorn på schack brädet: 18446744073709551615\n"
     ]
    }
   ],
   "source": [
    "squares = 64\n",
    "\n",
    "total_grains=0\n",
    "\n",
    "for i in range(squares):\n",
    "    grains_on_square = 2**i\n",
    "    total_grains += grains_on_square\n",
    "\n",
    "print(f\"Antal riskorn på schack brädet: {total_grains}\")"
   ]
  },
  {
   "cell_type": "markdown",
   "id": "1686837a",
   "metadata": {},
   "source": [
    "# 9"
   ]
  },
  {
   "cell_type": "markdown",
   "id": "f274a02a",
   "metadata": {},
   "source": []
  }
 ],
 "metadata": {
  "kernelspec": {
   "display_name": "python_de_25_hannah_zemack",
   "language": "python",
   "name": "python3"
  },
  "language_info": {
   "codemirror_mode": {
    "name": "ipython",
    "version": 3
   },
   "file_extension": ".py",
   "mimetype": "text/x-python",
   "name": "python",
   "nbconvert_exporter": "python",
   "pygments_lexer": "ipython3",
   "version": "3.12.10"
  }
 },
 "nbformat": 4,
 "nbformat_minor": 5
}
