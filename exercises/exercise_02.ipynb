{
 "cells": [
  {
   "cell_type": "markdown",
   "id": "85d8147a",
   "metadata": {},
   "source": [
    "# 0. Check sign (*)"
   ]
  },
  {
   "cell_type": "markdown",
   "id": "9a6a8fba",
   "metadata": {},
   "source": [
    "Ask the user to input a number and check if this number is positive, negative or zero and print it out."
   ]
  },
  {
   "cell_type": "code",
   "execution_count": 3,
   "id": "aac3ed8f",
   "metadata": {},
   "outputs": [
    {
     "name": "stdout",
     "output_type": "stream",
     "text": [
      "Nummret du har angivit är negativt\n"
     ]
    }
   ],
   "source": [
    "number = float(input(\"Skriv ett nummer: \"))\n",
    "\n",
    "if number > 0:\n",
    "    print(\"Nummret du har angett är positivt\")\n",
    "elif number < 0:\n",
    "    print(\"Nummret du har angivit är negativt\")\n",
    "else:\n",
    "    print(\"Du har angivit 0\")"
   ]
  },
  {
   "cell_type": "markdown",
   "id": "d4d3efa4",
   "metadata": {},
   "source": [
    "# 1. Smallest (*)"
   ]
  },
  {
   "cell_type": "markdown",
   "id": "8c4d4617",
   "metadata": {},
   "source": [
    "Ask the user to input two numbers and check which one is the smallest and print it out."
   ]
  },
  {
   "cell_type": "code",
   "execution_count": 7,
   "id": "725047bf",
   "metadata": {},
   "outputs": [
    {
     "name": "stdout",
     "output_type": "stream",
     "text": [
      " 1 är det minsta nummret\n"
     ]
    }
   ],
   "source": [
    "number1 = float(input(\"Skriv in det första nummret: \"))\n",
    "number2 = float(input(\"Skriv in det andra nummret: \"))\n",
    "\n",
    "if number1 > number2:\n",
    "    print(f\"{number2: .0f} är det minsta nummret\")\n",
    "else:\n",
    "    print(f\"{number1: .0f} är det minsta nummret\")"
   ]
  },
  {
   "cell_type": "markdown",
   "id": "9814e5f2",
   "metadata": {},
   "source": [
    "# 2. Medicine (*)"
   ]
  },
  {
   "cell_type": "markdown",
   "id": "41f5881d",
   "metadata": {},
   "source": [
    "The information in the following table is stated in a medicine package. Also it is stated that for children weight is more important than age."
   ]
  },
  {
   "cell_type": "markdown",
   "id": "cf998e59",
   "metadata": {},
   "source": [
    "# 3. Divisible (*)"
   ]
  },
  {
   "cell_type": "markdown",
   "id": "915d0b05",
   "metadata": {},
   "source": [
    "Let the user input a number. Check if the number is\n",
    "\n",
    "1even or odd\n",
    "2is divisible by 5\n",
    "3is divisble by 5 and odd"
   ]
  },
  {
   "cell_type": "code",
   "execution_count": null,
   "id": "820046b2",
   "metadata": {},
   "outputs": [],
   "source": [
    "number_in = float(input(\"skriv ett nummer: \"))\n",
    "\n",
    "if number_in % 2 == 0:\n",
    "    print(f\"{number_in} är jämnt\")\n",
    "else "
   ]
  }
 ],
 "metadata": {
  "kernelspec": {
   "display_name": "python_de_25_hannah_zemack",
   "language": "python",
   "name": "python3"
  },
  "language_info": {
   "codemirror_mode": {
    "name": "ipython",
    "version": 3
   },
   "file_extension": ".py",
   "mimetype": "text/x-python",
   "name": "python",
   "nbconvert_exporter": "python",
   "pygments_lexer": "ipython3",
   "version": "3.12.10"
  }
 },
 "nbformat": 4,
 "nbformat_minor": 5
}
