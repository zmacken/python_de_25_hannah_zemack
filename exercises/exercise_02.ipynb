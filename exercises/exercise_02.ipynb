{
 "cells": [
  {
   "cell_type": "markdown",
   "id": "85d8147a",
   "metadata": {},
   "source": [
    "# 0. Check sign (*)"
   ]
  },
  {
   "cell_type": "markdown",
   "id": "9a6a8fba",
   "metadata": {},
   "source": [
    "Ask the user to input a number and check if this number is positive, negative or zero and print it out."
   ]
  },
  {
   "cell_type": "markdown",
   "id": "aac3ed8f",
   "metadata": {},
   "source": []
  }
 ],
 "metadata": {
  "language_info": {
   "name": "python"
  }
 },
 "nbformat": 4,
 "nbformat_minor": 5
}
