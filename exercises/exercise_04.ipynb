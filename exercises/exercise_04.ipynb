{
 "cells": [
  {
   "cell_type": "markdown",
   "id": "3a1eae77",
   "metadata": {},
   "source": [
    "0. Counting words (*)"
   ]
  },
  {
   "cell_type": "code",
   "execution_count": 1,
   "id": "52138f5d",
   "metadata": {},
   "outputs": [
    {
     "name": "stdout",
     "output_type": "stream",
     "text": [
      "17\n"
     ]
    }
   ],
   "source": [
    "sentence  = \"A picture says more than a thousand words, a matematical formula says more than a thousand pictures\"\n",
    "\n",
    "words = sentence.split()\n",
    "word_count = len(words)\n",
    "\n",
    "print(word_count)"
   ]
  },
  {
   "cell_type": "markdown",
   "id": "56fd7ba3",
   "metadata": {},
   "source": [
    "1. Counting letters (*)"
   ]
  },
  {
   "cell_type": "code",
   "execution_count": 8,
   "id": "61e6b295",
   "metadata": {},
   "outputs": [
    {
     "name": "stdout",
     "output_type": "stream",
     "text": [
      "4\n",
      "2\n"
     ]
    }
   ],
   "source": [
    "word = input(\"Skriv in ett ord: \")\n",
    "\n",
    "letters = len(word)\n",
    "letter_u = 0\n",
    "letter_l = 0\n",
    "\n",
    "for n in word:\n",
    "    if n.isupper():\n",
    "        letter_u += 1\n",
    "    elif n.islower():\n",
    "        letter_l += 1\n",
    "    else:\n",
    "        break\n",
    "\n",
    "print(letter_l)\n",
    "print(letter_u)\n"
   ]
  },
  {
   "cell_type": "markdown",
   "id": "00f4442b",
   "metadata": {},
   "source": [
    "2. Palindrome (*)"
   ]
  },
  {
   "cell_type": "code",
   "execution_count": 13,
   "id": "c7c77ad2",
   "metadata": {},
   "outputs": [
    {
     "name": "stdout",
     "output_type": "stream",
     "text": [
      "not palindrome\n"
     ]
    }
   ],
   "source": [
    "pal_word = input(\"Skriv in ett ord: \")\n",
    "lower_palword =pal_word.lower()\n",
    "\n",
    "reverse_palword = lower_palword[::-1]\n",
    "\n",
    "if lower_palword == reverse_palword:\n",
    "    print(\"palindrome\")\n",
    "else:\n",
    "    print(\"not palindrome\")\n"
   ]
  },
  {
   "cell_type": "markdown",
   "id": "cbbdfea2",
   "metadata": {},
   "source": [
    "3. Vowels (**)"
   ]
  },
  {
   "cell_type": "code",
   "execution_count": 15,
   "id": "6f0d8b5d",
   "metadata": {},
   "outputs": [
    {
     "name": "stdout",
     "output_type": "stream",
     "text": [
      "['u', 'e', 'a', 'e', 'a', 'i', 'i', 'i', 'i', 'a', 'e', 'o', 'e', 'o', 'o', 'i', 'a', 'i', 'e', 'a']\n",
      "20\n"
     ]
    }
   ],
   "source": [
    "vowels = \"aeiouAEIOU\"\n",
    "sentence = \"Pure mathematics is, in its way, the poetry of logical ideas\"\n",
    "\n",
    "found_vowels = []\n",
    "vowels_count = 0\n",
    "\n",
    "for n in sentence:\n",
    "    if n in vowels:\n",
    "        found_vowels.append(n)\n",
    "        vowels_count += 1\n",
    "\n",
    "print(found_vowels)\n",
    "print(vowels_count)\n"
   ]
  },
  {
   "cell_type": "markdown",
   "id": "db49bc3d",
   "metadata": {},
   "source": [
    "4. Encryption (**)"
   ]
  },
  {
   "cell_type": "code",
   "execution_count": 17,
   "id": "be85f69f",
   "metadata": {},
   "outputs": [
    {
     "name": "stdout",
     "output_type": "stream",
     "text": [
      "iatu\n"
     ]
    }
   ],
   "source": [
    "word = input(\"skriv in ett ord: \").lower()\n",
    "\n",
    "swedish_alphabet = \"abcdefghijklmnopqrstuvwxyzåäö\"\n",
    "\n",
    "encrypted_word = \"\"\n",
    "\n",
    "for n in word:\n",
    "    if n in swedish_alphabet:\n",
    "        index = swedish_alphabet.index(n)\n",
    "        next_index = (index +1) % len(swedish_alphabet)\n",
    "        encrypted_word += swedish_alphabet[next_index]\n",
    "    else:\n",
    "        encrypted_word += n\n",
    "\n",
    "print(encrypted_word)"
   ]
  },
  {
   "cell_type": "markdown",
   "id": "791a4fb1",
   "metadata": {},
   "source": [
    "5. Find and fix errors (*)"
   ]
  },
  {
   "cell_type": "code",
   "execution_count": 21,
   "id": "602fa17a",
   "metadata": {},
   "outputs": [
    {
     "name": "stdout",
     "output_type": "stream",
     "text": [
      "1.0\n"
     ]
    }
   ],
   "source": [
    "import numpy as np\n",
    "\n",
    "def distance(x,y):\n",
    "    return np.sqrt(x+y)\n",
    "\n",
    "print(distance(0.5, 0.5))"
   ]
  },
  {
   "cell_type": "markdown",
   "id": "2191ca6b",
   "metadata": {},
   "source": [
    "6. Find and fix errors (*)"
   ]
  },
  {
   "cell_type": "code",
   "execution_count": 24,
   "id": "218fe1e4",
   "metadata": {},
   "outputs": [
    {
     "name": "stdout",
     "output_type": "stream",
     "text": [
      "231 is four-digit\n",
      "3124 is four-digit\n",
      "-4124 is four-digit\n",
      "-1000 is four-digit\n",
      "-999 is four-digit\n",
      "1001 is four-digit\n",
      "10000 is not four-digit\n",
      "-10000 is four-digit\n",
      "999 is four-digit\n"
     ]
    }
   ],
   "source": [
    "def is_fourdigit(number):\n",
    "    if number//1000 < 10:\n",
    "        return True\n",
    "    else:\n",
    "        return False\n",
    "\n",
    "# test program\n",
    "test_numbers = [231, 3124, -4124, -1000,-999, 1001, 10000, -10000, 999]\n",
    "\n",
    "for number in test_numbers:\n",
    "    if is_fourdigit(number):\n",
    "        print(f\"{number} is four-digit\")\n",
    "    else:\n",
    "        print(f\"{number} is not four-digit\")"
   ]
  },
  {
   "cell_type": "markdown",
   "id": "2dd31e80",
   "metadata": {},
   "source": [
    "7. Tram (*)\n"
   ]
  },
  {
   "cell_type": "code",
   "execution_count": 34,
   "id": "065bdc9a",
   "metadata": {},
   "outputs": [
    {
     "name": "stdout",
     "output_type": "stream",
     "text": [
      "Båda alternativen kostar samma\n"
     ]
    }
   ],
   "source": [
    "while True:\n",
    "    number_of_times = int(input(\"Skriv in hur många gånger du ska ta kollektivtrafik: \"))\n",
    "    cost_1ticket = int(input(\"Vad kostar en singelbiljett?: \"))\n",
    "    cost_monthly = int(input(\"Vad kostar en månads biljett?: \"))\n",
    "\n",
    "    if number_of_times < 0 or cost_1ticket < 0 or cost_monthly < 0:\n",
    "        print(\"skriv in ett positivt nummer\")\n",
    "    else:\n",
    "        break\n",
    "\n",
    "total_price = number_of_times * cost_1ticket\n",
    "\n",
    "if total_price < cost_monthly:\n",
    "    print(\"Det blir billigare att köpa en biljett när du behöver den.\")\n",
    "elif total_price > cost_monthly:\n",
    "    print(\"Det blir billigare att köpa månadskort.\")\n",
    "else:\n",
    "    print(\"Båda alternativen kostar samma\")"
   ]
  },
  {
   "cell_type": "markdown",
   "id": "8081bc26",
   "metadata": {},
   "source": [
    "8. Dice rolls (*)"
   ]
  },
  {
   "cell_type": "code",
   "execution_count": 43,
   "id": "c80892b9",
   "metadata": {},
   "outputs": [],
   "source": [
    "import random as rnd\n",
    "\n",
    "rolls = [rnd.randint(1, 6) for _ in range(20)]\n",
    "str_rolls= ' '.join([str(s) for s in rolls])\n",
    "\n",
    "with open(\"dice_rolls.txt\", \"a\") as f:\n",
    "    f.write(str_rolls + \"\\n\")\n",
    "\n"
   ]
  },
  {
   "cell_type": "markdown",
   "id": "e1e7c1c4",
   "metadata": {},
   "source": [
    "9."
   ]
  },
  {
   "cell_type": "code",
   "execution_count": null,
   "id": "d1a8b7af",
   "metadata": {},
   "outputs": [],
   "source": []
  },
  {
   "cell_type": "markdown",
   "id": "221c48a1",
   "metadata": {},
   "source": [
    "10. National test (*)"
   ]
  },
  {
   "cell_type": "code",
   "execution_count": 97,
   "id": "12987941",
   "metadata": {},
   "outputs": [
    {
     "name": "stdout",
     "output_type": "stream",
     "text": [
      "['C', 'D', 'E', 'F']\n",
      "<class 'list'>\n"
     ]
    },
    {
     "data": {
      "text/plain": [
       "([<matplotlib.patches.Wedge at 0x119b96780>,\n",
       "  <matplotlib.patches.Wedge at 0x119bab1a0>,\n",
       "  <matplotlib.patches.Wedge at 0x119b96b70>,\n",
       "  <matplotlib.patches.Wedge at 0x119b96c90>],\n",
       " [Text(1.0968747898411895, 0.08285949197796602, 'C'),\n",
       "  Text(1.0450891012061072, 0.34320368666465595, 'D'),\n",
       "  Text(-0.09319351399917283, 1.0960451491377927, 'E'),\n",
       "  Text(-0.17207745003216413, -1.0864572477508851, 'F')])"
      ]
     },
     "execution_count": 97,
     "metadata": {},
     "output_type": "execute_result"
    },
    {
     "data": {
      "image/png": "[encoded data removed]",
      "text/plain": [
       "<Figure size 640x480 with 1 Axes>"
      ]
     },
     "metadata": {},
     "output_type": "display_data"
    }
   ],
   "source": [
    "import matplotlib.pylab as plt\n",
    "import re\n",
    "\n",
    "with open(\"NPvt19Ma2A.txt\", \"r\") as file_1:\n",
    "    content_1 = file_1.readlines()\n",
    "\n",
    "#file_1.close()\n",
    "#print(content_1)\n",
    "\n",
    "grades = []\n",
    "percentages = []\n",
    "#all_data = []\n",
    "\n",
    "for line in content_1:\n",
    "    grade, nums = line.strip().split()\n",
    "    #print(grades)\n",
    "    #print(nums)\n",
    "    percentage = float(nums.strip(\"%\"))\n",
    "    #print(percentages)\n",
    "    #print(type(percentages))\n",
    "    if percentage > 0:\n",
    "        grades.append(grade)\n",
    "        percentages.append(percentage)\n",
    "\n",
    "    \n",
    "print(grades)\n",
    "print(type(grades))\n",
    "\n",
    "\n",
    "\n",
    "# \"\" for line in content_1:\n",
    "#     split_all = re.findall(r\"([A-F])|(\\d+\\.?\\d+?)\", line)\n",
    "#     print(type(split_all))\n",
    "#     print(split_all)\n",
    "\n",
    "#     split_num = re.findall(r\"(\\d+\\.?\\d+?)\", line)\n",
    "    \n",
    "#     split_grade = re.findall(r\"[A-F]\", line)\n",
    "#     for num in split_num:\n",
    "#         percentages.append(float(num))\n",
    "#     for grade in split_grade:\n",
    "#         grades.append(grade)\n",
    " \n",
    "#plt.pie(all_data[1], labels=all_data[0])\n",
    "plt.pie(percentages, labels= grades)"
   ]
  },
  {
   "cell_type": "markdown",
   "id": "d0cc0e54",
   "metadata": {},
   "source": [
    "11. Dice roll experiment (**)"
   ]
  },
  {
   "cell_type": "markdown",
   "id": "e7fd13b3",
   "metadata": {},
   "source": [
    "Simulate 10, 100, 1000, 10000, 100000 dice rolls and count the freqencies and probabilities for each number in each simulation. Create a new text file using Python with the name \"simulation.txt\" and write the results to that text file."
   ]
  },
  {
   "cell_type": "code",
   "execution_count": 153,
   "id": "1c7fe1bd",
   "metadata": {},
   "outputs": [
    {
     "name": "stdout",
     "output_type": "stream",
     "text": [
      "<class 'str'>\n"
     ]
    }
   ],
   "source": [
    "import random as rnd\n",
    "\n",
    "simulations = [10, 100, 1000, 10000, 100000]\n",
    "\n",
    "#finalString = \"\"\n",
    "\n",
    "with open(\"simulation.txt\", \"w\") as f:\n",
    "    for n in simulations:\n",
    "        rolls = [rnd.randint(1, 6) for _ in range(n)]\n",
    "\n",
    "        frequencies = {i: rolls.count(i) for i in range(1,7)}\n",
    "        probabilities = {i: str(round((rolls.count(i)/n)*100, 2)) + \"%\" for i in range(1,7)}\n",
    "\n",
    "        f.write(f\"For {n} dice rolls: \\n\")\n",
    "        f.write(\"n   freq   prob\\n\")\n",
    "        for num in range(1, 7):\n",
    "            #print(num)\n",
    "            freq = frequencies[num]\n",
    "            prob = probabilities[num]\n",
    "            f.write(f\"{num:<4}{freq:<7}{prob}\\n\")\n",
    "        f.write(\"------------------ \\n\\n\")\n",
    "\n",
    "#        print(f\"For {n} dice rolls: \")\n",
    " #       text = \"\\n\".join([f\"{k}: {v}\" for k, v in probabilities.items()])\n",
    "  #      print(text)\n",
    "#print(rolls)\n",
    "#print(frequencies)\n",
    "\n",
    "#text = \"\\n\".join([f\"{k}: {v}\" for k, v in my_dict.items()])\n",
    "\n",
    "\n",
    "print(type(text))"
   ]
  }
 ],
 "metadata": {
  "kernelspec": {
   "display_name": "python_de_25_hannah_zemack",
   "language": "python",
   "name": "python3"
  },
  "language_info": {
   "codemirror_mode": {
    "name": "ipython",
    "version": 3
   },
   "file_extension": ".py",
   "mimetype": "text/x-python",
   "name": "python",
   "nbconvert_exporter": "python",
   "pygments_lexer": "ipython3",
   "version": "3.12.10"
  }
 },
 "nbformat": 4,
 "nbformat_minor": 5
}
