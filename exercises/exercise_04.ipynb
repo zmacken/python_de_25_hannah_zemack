{
 "cells": [
  {
   "cell_type": "markdown",
   "id": "3a1eae77",
   "metadata": {},
   "source": [
    "0. Counting words (*)"
   ]
  },
  {
   "cell_type": "code",
   "execution_count": 1,
   "id": "52138f5d",
   "metadata": {},
   "outputs": [
    {
     "name": "stdout",
     "output_type": "stream",
     "text": [
      "17\n"
     ]
    }
   ],
   "source": [
    "sentence  = \"A picture says more than a thousand words, a matematical formula says more than a thousand pictures\"\n",
    "\n",
    "words = sentence.split()\n",
    "word_count = len(words)\n",
    "\n",
    "print(word_count)"
   ]
  },
  {
   "cell_type": "markdown",
   "id": "56fd7ba3",
   "metadata": {},
   "source": [
    "1. Counting letters (*)"
   ]
  },
  {
   "cell_type": "code",
   "execution_count": 3,
   "id": "61e6b295",
   "metadata": {},
   "outputs": [
    {
     "name": "stdout",
     "output_type": "stream",
     "text": [
      "5\n"
     ]
    }
   ],
   "source": [
    "word = input(\"Skriv in ett ord: \")\n",
    "\n",
    "letters = len(word)\n",
    "\n",
    "\n",
    "print(letters)"
   ]
  }
 ],
 "metadata": {
  "kernelspec": {
   "display_name": "python_de_25_hannah_zemack",
   "language": "python",
   "name": "python3"
  },
  "language_info": {
   "codemirror_mode": {
    "name": "ipython",
    "version": 3
   },
   "file_extension": ".py",
   "mimetype": "text/x-python",
   "name": "python",
   "nbconvert_exporter": "python",
   "pygments_lexer": "ipython3",
   "version": "3.12.10"
  }
 },
 "nbformat": 4,
 "nbformat_minor": 5
}
