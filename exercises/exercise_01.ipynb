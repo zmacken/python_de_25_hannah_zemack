{
 "cells": [
  {
   "cell_type": "markdown",
   "id": "0070ce09",
   "metadata": {},
   "source": [
    "# 0. Pythagorean theorem (*)"
   ]
  },
  {
   "cell_type": "markdown",
   "id": "0c628090",
   "metadata": {},
   "source": [
    "a) A right angled triangle has the catheti: a = 3 and b = 4 length units. Compute the hypothenuse of the triangle. (*)"
   ]
  },
  {
   "cell_type": "code",
   "execution_count": 4,
   "id": "c9ec8e5c",
   "metadata": {},
   "outputs": [
    {
     "name": "stdout",
     "output_type": "stream",
     "text": [
      "hypotenusan är 5 cm lång\n"
     ]
    }
   ],
   "source": [
    "import math\n",
    "\n",
    "a=3\n",
    "b=4\n",
    "\n",
    "c = math.sqrt(a**2+b**2)\n",
    "\n",
    "print(f\"hypotenusan är {c:.0f} cm lång\")"
   ]
  },
  {
   "cell_type": "markdown",
   "id": "de309b93",
   "metadata": {},
   "source": [
    "b) A right angled triangle has hypothenuse c = 7.0 and a cathetus a = 5.0 length units. Compute the other cathetus and round to one decimal. (*)"
   ]
  },
  {
   "cell_type": "code",
   "execution_count": 5,
   "id": "6a541cd9",
   "metadata": {},
   "outputs": [
    {
     "name": "stdout",
     "output_type": "stream",
     "text": [
      "Kateten är 4.9 cm lång\n"
     ]
    }
   ],
   "source": [
    "a=5.0\n",
    "c=7.0\n",
    "\n",
    "b= math.sqrt(c**2-a**2)\n",
    "\n",
    "print(f\"Kateten är {b:.1f} cm lång\")"
   ]
  },
  {
   "cell_type": "markdown",
   "id": "ea1dda57",
   "metadata": {},
   "source": [
    "# 1. Classification accuracy (*)"
   ]
  },
  {
   "cell_type": "markdown",
   "id": "6a51021d",
   "metadata": {},
   "source": [
    "A machine learning algorithm has been trained to predict whether or not it would rain the next day. Out of 365 predictions, it got 300 correct, compute the accuracy of this model."
   ]
  },
  {
   "cell_type": "code",
   "execution_count": 1,
   "id": "edb03470",
   "metadata": {},
   "outputs": [
    {
     "name": "stdout",
     "output_type": "stream",
     "text": [
      "modellen har rätt 82.2 % av gångerna\n"
     ]
    }
   ],
   "source": [
    "pred = 365\n",
    "correct = 300\n",
    "\n",
    "\n",
    "#kan också skrivas ihop\n",
    "accuracy = correct / pred\n",
    "procent = accuracy * 100\n",
    "\n",
    "print(f\"modellen har rätt {procent:.1f} % av gångerna\")\n"
   ]
  },
  {
   "cell_type": "markdown",
   "id": "fd040421",
   "metadata": {},
   "source": [
    "# 2. Classification accuracy (*)"
   ]
  },
  {
   "cell_type": "markdown",
   "id": "b3455b4f",
   "metadata": {},
   "source": [
    "A machine learning model has been trained to detect fire. Here is the result of its predictions:\n",
    "\n",
    "Calculated the accuracy using the following formula:\n",
    "\n",
    "Is this a good model? Why? Why not?"
   ]
  },
  {
   "cell_type": "code",
   "execution_count": 3,
   "id": "7a234a6e",
   "metadata": {},
   "outputs": [
    {
     "name": "stdout",
     "output_type": "stream",
     "text": [
      "98.7 %\n"
     ]
    }
   ],
   "source": [
    "TP = 2\n",
    "FP = 2\n",
    "FN = 11\n",
    "TN = 985\n",
    "\n",
    "accuracy_02 = (TP+TN)/(TP+TN+FN+FP) * 100\n",
    "\n",
    "print(f\"{accuracy_02:.1f} %\")"
   ]
  },
  {
   "cell_type": "markdown",
   "id": "6fb3a6dc",
   "metadata": {},
   "source": [
    "# 3. File metadata - format print (*)"
   ]
  },
  {
   "cell_type": "markdown",
   "id": "18dbb423",
   "metadata": {},
   "source": [
    "There is a file with the following metadata:\n",
    "\n",
    "name: orders_data.csv\n",
    "file size: 3.14mb\n",
    "modified 2024\n",
    "Create variables for each of them and print out the following to the screen"
   ]
  },
  {
   "cell_type": "code",
   "execution_count": 6,
   "id": "d511e752",
   "metadata": {},
   "outputs": [
    {
     "name": "stdout",
     "output_type": "stream",
     "text": [
      "=== File metadata === \n",
      "Filename: {filename} \n",
      "Size (MB): {filesize} \n",
      "Last modified: {modified} \n"
     ]
    }
   ],
   "source": [
    "filename = \"orders_data.csv\"\n",
    "filesize = 3.14\n",
    "modified: 2024\n",
    "\n",
    "\n",
    "print(\"=== File metadata === \\nFilename: {filename} \\nSize (MB): {filesize} \\nLast modified: {modified} \")"
   ]
  },
  {
   "cell_type": "markdown",
   "id": "db25659c",
   "metadata": {},
   "source": [
    "# 4. Unit converter - inch to cm (*)"
   ]
  },
  {
   "cell_type": "code",
   "execution_count": 12,
   "id": "54c1df88",
   "metadata": {},
   "outputs": [
    {
     "name": "stdout",
     "output_type": "stream",
     "text": [
      "5.08\n"
     ]
    }
   ],
   "source": [
    "\n",
    "inches_input = float(input(\"skriv in inches:\"))\n",
    "\n",
    "cm = inches_input*2.54\n",
    "\n",
    "print(f\"{cm}\")"
   ]
  },
  {
   "cell_type": "markdown",
   "id": "4b210ebc",
   "metadata": {},
   "source": [
    "# 5. Count characters in a text (*)"
   ]
  },
  {
   "cell_type": "markdown",
   "id": "435a2358",
   "metadata": {},
   "source": [
    "Create a program to let a user input a text, count the number of characters and print it out to the screen. Space can also be counted as a character here.\n",
    "\n",
    "Hint: len() function"
   ]
  },
  {
   "cell_type": "code",
   "execution_count": 13,
   "id": "7bf4298b",
   "metadata": {},
   "outputs": [
    {
     "name": "stdout",
     "output_type": "stream",
     "text": [
      "Ordet är 3 bokstäver långt.\n"
     ]
    }
   ],
   "source": [
    "ord = input(\"Skriv in ett ord:\")\n",
    "\n",
    "print(f\"Ordet är {len(ord)} bokstäver långt.\")"
   ]
  },
  {
   "cell_type": "markdown",
   "id": "ccfc2644",
   "metadata": {},
   "source": [
    "# 6"
   ]
  },
  {
   "cell_type": "code",
   "execution_count": 15,
   "id": "faac98f1",
   "metadata": {},
   "outputs": [
    {
     "name": "stdout",
     "output_type": "stream",
     "text": [
      "5 has type <class 'int'>\n",
      "3.1415 has type <class 'float'>\n",
      "math has type <class 'str'>\n",
      "True has type <class 'bool'>\n",
      "[1, 2, 41, 2] has type <class 'list'>\n"
     ]
    }
   ],
   "source": [
    "# Variables\n",
    "radius = 5\n",
    "PI = 3.1415\n",
    "cool_subject = 'math'\n",
    "is_cool = True\n",
    "numbers = [1, 2, 41, 2]\n",
    "\n",
    "# Checking types\n",
    "print(radius, \"has type\", type(radius))\n",
    "print(PI, \"has type\", type(PI))\n",
    "print(cool_subject, \"has type\", type(cool_subject))\n",
    "print(is_cool, \"has type\", type(is_cool))\n",
    "print(numbers, \"has type\", type(numbers))"
   ]
  }
 ],
 "metadata": {
  "kernelspec": {
   "display_name": "python_de_25_hannah_zemack",
   "language": "python",
   "name": "python3"
  },
  "language_info": {
   "codemirror_mode": {
    "name": "ipython",
    "version": 3
   },
   "file_extension": ".py",
   "mimetype": "text/x-python",
   "name": "python",
   "nbconvert_exporter": "python",
   "pygments_lexer": "ipython3",
   "version": "3.12.10"
  }
 },
 "nbformat": 4,
 "nbformat_minor": 5
}
