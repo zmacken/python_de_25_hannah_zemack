{
 "cells": [
  {
   "cell_type": "markdown",
   "id": "0070ce09",
   "metadata": {},
   "source": [
    "# 0. Pythagorean theorem (*)"
   ]
  },
  {
   "cell_type": "markdown",
   "id": "0c628090",
   "metadata": {},
   "source": [
    "a) A right angled triangle has the catheti: a = 3 and b = 4 length units. Compute the hypothenuse of the triangle. (*)"
   ]
  }
 ],
 "metadata": {
  "language_info": {
   "name": "python"
  }
 },
 "nbformat": 4,
 "nbformat_minor": 5
}
