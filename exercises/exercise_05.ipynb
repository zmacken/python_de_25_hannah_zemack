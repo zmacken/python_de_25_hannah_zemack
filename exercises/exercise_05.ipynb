{
 "cells": [
  {
   "cell_type": "markdown",
   "id": "6809b9fc",
   "metadata": {},
   "source": [
    "0. Area (*)"
   ]
  },
  {
   "cell_type": "code",
   "execution_count": null,
   "id": "0de90e7b",
   "metadata": {},
   "outputs": [
    {
     "name": "stdout",
     "output_type": "stream",
     "text": [
      "Du måste skriva in en siffra\n"
     ]
    }
   ],
   "source": [
    "def areafunc(base, height):\n",
    "    area=(base*height)/2\n",
    "    print(area)\n",
    "\n",
    "try:\n",
    "\n",
    "    base_input = float(input(\"Skriv in bas: \"))\n",
    "    height_input = float(input(\"Skriv in höjd: \"))\n",
    "    areafunc(base_input, height_input)\n",
    "except ValueError:\n",
    "    print(\"Du måste skriva in en siffra\")"
   ]
  },
  {
   "cell_type": "markdown",
   "id": "de1e6fef",
   "metadata": {},
   "source": [
    "1. Euclidean distance (*)"
   ]
  },
  {
   "cell_type": "markdown",
   "id": "8714747e",
   "metadata": {},
   "source": [
    "The formula for Euclidean distance in 2D between \n",
    "\n",
    "a) Create a function that takes two points as input parameters and return the Euclidean between them. (*)\n",
    "\n",
    "b) Let the user input two points. Call the function using the users input points. (*)\n",
    "\n",
    "c) Use your function to calculate distances between the origin (0, 0) and each of these points: (10, 3), (-1, -9), (10, -10), (4, -2), (9, -10). (*)"
   ]
  },
  {
   "cell_type": "code",
   "execution_count": null,
   "id": "64a88a1f",
   "metadata": {},
   "outputs": [],
   "source": []
  },
  {
   "cell_type": "markdown",
   "id": "58f8241c",
   "metadata": {},
   "source": [
    "2. Mathematical functions (*)"
   ]
  },
  {
   "cell_type": "code",
   "execution_count": null,
   "id": "2cbffbf0",
   "metadata": {},
   "outputs": [],
   "source": []
  }
 ],
 "metadata": {
  "kernelspec": {
   "display_name": "python_de_25_hannah_zemack",
   "language": "python",
   "name": "python3"
  },
  "language_info": {
   "codemirror_mode": {
    "name": "ipython",
    "version": 3
   },
   "file_extension": ".py",
   "mimetype": "text/x-python",
   "name": "python",
   "nbconvert_exporter": "python",
   "pygments_lexer": "ipython3",
   "version": "3.12.10"
  }
 },
 "nbformat": 4,
 "nbformat_minor": 5
}
