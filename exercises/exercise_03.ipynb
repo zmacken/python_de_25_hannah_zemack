{
 "cells": [
  {
   "cell_type": "markdown",
   "id": "340c02c1",
   "metadata": {},
   "source": [
    "0. Dice rolls"
   ]
  },
  {
   "cell_type": "code",
   "execution_count": 7,
   "id": "b5bdd367",
   "metadata": {},
   "outputs": [],
   "source": [
    "import random as rnd\n",
    "\n",
    "dice_rolls =[rnd.randint(1, 6) for i in range(10)]\n",
    "\n",
    "#for i in range(10):\n",
    "    #dice = rnd.randint(1, 6)\n",
    "    #dice_rolls.append(dice)\n"
   ]
  },
  {
   "cell_type": "code",
   "execution_count": 19,
   "id": "58dc11ca",
   "metadata": {},
   "outputs": [
    {
     "name": "stdout",
     "output_type": "stream",
     "text": [
      "[1, 4, 4, 4, 4, 4, 5, 5, 6, 6]\n"
     ]
    }
   ],
   "source": [
    "#a\n",
    "\n",
    "dice_rolls.sort()\n",
    "\n",
    "print(dice_rolls)"
   ]
  },
  {
   "cell_type": "code",
   "execution_count": 24,
   "id": "0f6210a4",
   "metadata": {},
   "outputs": [
    {
     "name": "stdout",
     "output_type": "stream",
     "text": [
      "[6, 6, 5, 5, 4, 4, 4, 4, 4, 1]\n"
     ]
    }
   ],
   "source": [
    "#b\n",
    "\n",
    "dice_rolls.sort(reverse=True)\n",
    "\n",
    "print(dice_rolls)"
   ]
  },
  {
   "cell_type": "code",
   "execution_count": 23,
   "id": "0d6895a8",
   "metadata": {},
   "outputs": [
    {
     "name": "stdout",
     "output_type": "stream",
     "text": [
      "6\n",
      "1\n"
     ]
    }
   ],
   "source": [
    "#c\n",
    "\n",
    "max_roll = max(dice_rolls)\n",
    "min_roll = min(dice_rolls)\n",
    "\n",
    "print(max_roll)\n",
    "print(min_roll)"
   ]
  },
  {
   "cell_type": "code",
   "execution_count": 3,
   "id": "6884269e",
   "metadata": {},
   "outputs": [
    {
     "name": "stdout",
     "output_type": "stream",
     "text": [
      "3.4\n"
     ]
    }
   ],
   "source": [
    "#d\n",
    "import random as rnd\n",
    "dice_rolls =[rnd.randint(1, 6) for i in range(10)]\n",
    "mean_roll = sum(dice_rolls)/len(dice_rolls)\n",
    "\n",
    "print(mean_roll)\n",
    "\n"
   ]
  },
  {
   "cell_type": "code",
   "execution_count": 11,
   "id": "11c103c3",
   "metadata": {},
   "outputs": [
    {
     "name": "stdout",
     "output_type": "stream",
     "text": [
      "3.0\n"
     ]
    }
   ],
   "source": [
    "#e\n",
    "import random as rnd\n",
    "dice_rolls =[rnd.randint(1, 6) for i in range(10)]\n",
    "\n",
    "sorted_dice = sorted(dice_rolls)\n",
    "n = len(sorted_dice)\n",
    "\n",
    "if n % 2 == 1:\n",
    "    median_roll = sorted_dice[n//2]\n",
    "else:\n",
    "    median_roll = (sorted_dice[n // 2 - 1] + sorted_dice[n // 2]) / 2\n",
    "\n",
    "print(median_roll)"
   ]
  },
  {
   "cell_type": "code",
   "execution_count": 12,
   "id": "fdf79f6e",
   "metadata": {},
   "outputs": [
    {
     "name": "stdout",
     "output_type": "stream",
     "text": [
      "[3, 1, 5, 5, 1, 2, 3, 2, 6, 5]\n",
      "[3, 1, 5, 2, 6]\n"
     ]
    }
   ],
   "source": [
    "#f\n",
    "import random as rnd\n",
    "dice_rolls =[rnd.randint(1, 6) for i in range(10)]\n",
    "\n",
    "unique_num = []\n",
    "for num in dice_rolls:\n",
    "    if num not in unique_num:\n",
    "        unique_num.append(num)\n",
    "\n",
    "print(dice_rolls)\n",
    "print(unique_num)\n"
   ]
  },
  {
   "cell_type": "markdown",
   "id": "2787fa45",
   "metadata": {},
   "source": [
    "1. Food menu (*)"
   ]
  },
  {
   "cell_type": "code",
   "execution_count": 22,
   "id": "958b139a",
   "metadata": {},
   "outputs": [
    {
     "name": "stdout",
     "output_type": "stream",
     "text": [
      "Day        Food\n",
      "-----------------\n",
      "Monday     vegetarian lasagna\n",
      "Tuesday    spaghetti\n",
      "Wednesday  fish\n",
      "Thursday   soup\n",
      "Friday     pancakes\n"
     ]
    }
   ],
   "source": [
    "# a) List with food items\n",
    "foods = [\"vegetarian lasagna\", \"spaghetti\", \"fish\", \"soup\", \"pancakes\"]\n",
    "\n",
    "# b) List with weekdays\n",
    "weekdays = [\"Monday\", \"Tuesday\", \"Wednesday\", \"Thursday\", \"Friday\"]\n",
    "\n",
    "# c) Create a food menu (match days with foods) and print\n",
    "print(\"Day        Food\")\n",
    "print(\"-----------------\")\n",
    "for i in range(len(weekdays)):\n",
    "    print(f\"{weekdays[i]:<10} {foods[i]}\")"
   ]
  },
  {
   "cell_type": "markdown",
   "id": "b1a8977a",
   "metadata": {},
   "source": [
    "#2. Squares (*)"
   ]
  },
  {
   "cell_type": "code",
   "execution_count": 25,
   "id": "bdb7e393",
   "metadata": {},
   "outputs": [
    {
     "name": "stdout",
     "output_type": "stream",
     "text": [
      "[100, 81, 64, 49, 36, 25, 16, 9, 4, 1, 0, 1, 4, 9, 16, 25, 36, 49, 64, 81, 100]\n"
     ]
    }
   ],
   "source": [
    "squares = [x**2 for x in range(-10, 11)]\n",
    "\n",
    "print(squares)"
   ]
  },
  {
   "cell_type": "code",
   "execution_count": 28,
   "id": "c8f80fe1",
   "metadata": {},
   "outputs": [
    {
     "data": {
      "image/png": "[encoded data removed]",
      "text/plain": [
       "<Figure size 640x480 with 1 Axes>"
      ]
     },
     "metadata": {},
     "output_type": "display_data"
    }
   ],
   "source": [
    "import matplotlib.pyplot as plt\n",
    "\n",
    "numbers = list(range(-10, 11))\n",
    "squares = [x**2 for x in numbers]\n",
    "plt.plot(numbers, squares, marker='o', linestyle='-', color='blue')\n",
    "plt.title(\"Squares from -10 to 10\")\n",
    "plt.xlabel(\"Number\")\n",
    "plt.ylabel(\"Square\")\n",
    "plt.grid(False)\n",
    "plt.show()\n"
   ]
  },
  {
   "cell_type": "markdown",
   "id": "b1958c90",
   "metadata": {},
   "source": [
    "#3. Chessboard (**)"
   ]
  },
  {
   "cell_type": "code",
   "execution_count": 29,
   "id": "5c35c1aa",
   "metadata": {},
   "outputs": [
    {
     "name": "stdout",
     "output_type": "stream",
     "text": [
      "['A1', 'B1', 'C1', 'D1', 'E1', 'F1', 'G1', 'H1']\n"
     ]
    }
   ],
   "source": [
    "\n",
    "letters_numbers = [letter + '1' for letter in ['A','B','C','D','E','F','G','H']]\n",
    "print(letters_numbers)"
   ]
  },
  {
   "cell_type": "markdown",
   "id": "77dd6451",
   "metadata": {},
   "source": [
    "4. Dice rolls convergence (**)"
   ]
  },
  {
   "cell_type": "code",
   "execution_count": 33,
   "id": "a2120771",
   "metadata": {},
   "outputs": [
    {
     "data": {
      "text/plain": [
       "18"
      ]
     },
     "execution_count": 33,
     "metadata": {},
     "output_type": "execute_result"
    }
   ],
   "source": [
    "#a\n",
    "import random as rnd\n",
    "\n",
    "dice_rolls = [rnd.randint(1, 6) for _ in range(100)]\n",
    "count_six = dice_rolls.count(6)\n",
    "\n",
    "count_six"
   ]
  },
  {
   "cell_type": "code",
   "execution_count": 42,
   "id": "ecfaf22d",
   "metadata": {},
   "outputs": [
    {
     "name": "stdout",
     "output_type": "stream",
     "text": [
      "[1, 16, 171, 1602, 16701, 166723]\n",
      "[10.0, 16.0, 17.1, 16.02, 16.701, 16.6723]\n"
     ]
    },
    {
     "data": {
      "text/plain": [
       "[<matplotlib.lines.Line2D at 0x131871b20>]"
      ]
     },
     "execution_count": 42,
     "metadata": {},
     "output_type": "execute_result"
    },
    {
     "data": {
      "image/png": "[encoded data removed]",
      "text/plain": [
       "<Figure size 640x480 with 1 Axes>"
      ]
     },
     "metadata": {},
     "output_type": "display_data"
    }
   ],
   "source": [
    "#b\n",
    "roll_sizes = [10, 100, 1000, 10000, 100000, 1000000]\n",
    "sixes_counts = []\n",
    "probability_six = []\n",
    "\n",
    "for n in roll_sizes:\n",
    "    rolls = [rnd.randint(1, 6) for _ in range(n)]\n",
    "    count_six = rolls.count(6)\n",
    "    sixes_counts.append(count_six)\n",
    "    prob_six = count_six / n * 100\n",
    "    probability_six.append(prob_six)\n",
    "\n",
    "print(sixes_counts)\n",
    "print(f\"{probability_six}\")\n",
    "\n",
    "import matplotlib.pylab as plt\n",
    "\n",
    "plt.plot(roll_sizes, probability_six)\n"
   ]
  },
  {
   "cell_type": "markdown",
   "id": "74bbce8a",
   "metadata": {},
   "source": [
    "6. A cute rabbit among two ferocious snakes (***)"
   ]
  },
  {
   "cell_type": "code",
   "execution_count": null,
   "id": "4f16ae5f",
   "metadata": {},
   "outputs": [],
   "source": [
    "import random as rnd\n",
    "import matplotlib.pylab as plt\n",
    "\n"
   ]
  }
 ],
 "metadata": {
  "kernelspec": {
   "display_name": "python_de_25_hannah_zemack",
   "language": "python",
   "name": "python3"
  },
  "language_info": {
   "codemirror_mode": {
    "name": "ipython",
    "version": 3
   },
   "file_extension": ".py",
   "mimetype": "text/x-python",
   "name": "python",
   "nbconvert_exporter": "python",
   "pygments_lexer": "ipython3",
   "version": "3.12.10"
  }
 },
 "nbformat": 4,
 "nbformat_minor": 5
}
