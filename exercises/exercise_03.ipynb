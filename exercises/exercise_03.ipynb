{
 "cells": [
  {
   "cell_type": "markdown",
   "id": "340c02c1",
   "metadata": {},
   "source": [
    "0. Dice rolls"
   ]
  },
  {
   "cell_type": "code",
   "execution_count": 18,
   "id": "b5bdd367",
   "metadata": {},
   "outputs": [],
   "source": [
    "import random as rnd\n",
    "\n",
    "dice_rolls =[rnd.randint(1, 6) for i in range(10)]\n",
    "\n",
    "#for i in range(10):\n",
    "    #dice = rnd.randint(1, 6)\n",
    "    #dice_rolls.append(dice)\n"
   ]
  },
  {
   "cell_type": "code",
   "execution_count": 19,
   "id": "58dc11ca",
   "metadata": {},
   "outputs": [
    {
     "name": "stdout",
     "output_type": "stream",
     "text": [
      "[1, 4, 4, 4, 4, 4, 5, 5, 6, 6]\n"
     ]
    }
   ],
   "source": [
    "#a\n",
    "\n",
    "dice_rolls.sort()\n",
    "\n",
    "print(dice_rolls)"
   ]
  },
  {
   "cell_type": "code",
   "execution_count": 24,
   "id": "0f6210a4",
   "metadata": {},
   "outputs": [
    {
     "name": "stdout",
     "output_type": "stream",
     "text": [
      "[6, 6, 5, 5, 4, 4, 4, 4, 4, 1]\n"
     ]
    }
   ],
   "source": [
    "#b\n",
    "\n",
    "dice_rolls.sort(reverse=True)\n",
    "\n",
    "print(dice_rolls)"
   ]
  },
  {
   "cell_type": "code",
   "execution_count": 23,
   "id": "0d6895a8",
   "metadata": {},
   "outputs": [
    {
     "name": "stdout",
     "output_type": "stream",
     "text": [
      "6\n",
      "1\n"
     ]
    }
   ],
   "source": [
    "#c\n",
    "\n",
    "max_roll = max(dice_rolls)\n",
    "min_roll = min(dice_rolls)\n",
    "\n",
    "print(max_roll)\n",
    "print(min_roll)"
   ]
  },
  {
   "cell_type": "code",
   "execution_count": null,
   "id": "6884269e",
   "metadata": {},
   "outputs": [],
   "source": [
    "#d\n",
    "\n"
   ]
  }
 ],
 "metadata": {
  "kernelspec": {
   "display_name": "python_de_25_hannah_zemack",
   "language": "python",
   "name": "python3"
  },
  "language_info": {
   "codemirror_mode": {
    "name": "ipython",
    "version": 3
   },
   "file_extension": ".py",
   "mimetype": "text/x-python",
   "name": "python",
   "nbconvert_exporter": "python",
   "pygments_lexer": "ipython3",
   "version": "3.12.10"
  }
 },
 "nbformat": 4,
 "nbformat_minor": 5
}
