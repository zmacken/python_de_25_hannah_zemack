{
 "cells": [
  {
   "cell_type": "markdown",
   "id": "51e3d431",
   "metadata": {},
   "source": [
    "print statement"
   ]
  },
  {
   "cell_type": "code",
   "execution_count": 1,
   "id": "9ce50b75",
   "metadata": {},
   "outputs": [
    {
     "name": "stdout",
     "output_type": "stream",
     "text": [
      "hello world\n",
      "my name is Hannah\n"
     ]
    }
   ],
   "source": [
    "print(\"hello world\")\n",
    "print(\"my name is Hannah\")"
   ]
  },
  {
   "cell_type": "markdown",
   "id": "073dcca1",
   "metadata": {},
   "source": [
    "variables"
   ]
  },
  {
   "cell_type": "code",
   "execution_count": 2,
   "id": "1e31535a",
   "metadata": {},
   "outputs": [
    {
     "name": "stdout",
     "output_type": "stream",
     "text": [
      "my name is Hannah Zemack\n",
      "my age is 23\n",
      "more specific age is 23.5\n"
     ]
    }
   ],
   "source": [
    "firstname = \"Hannah\"\n",
    "lastname = \"Zemack\"\n",
    "age = 23\n",
    "\n",
    "print(f\"my name is {firstname} {lastname}\")\n",
    "print(f\"my age is {age}\")\n",
    "\n",
    "age= 23.5\n",
    "print(f\"more specific age is {age}\")"
   ]
  },
  {
   "cell_type": "markdown",
   "id": "4de7c986",
   "metadata": {},
   "source": [
    "input from user"
   ]
  },
  {
   "cell_type": "code",
   "execution_count": 3,
   "id": "e28ef5df",
   "metadata": {},
   "outputs": [
    {
     "name": "stdout",
     "output_type": "stream",
     "text": [
      "hannah är 23 år gammal\n"
     ]
    }
   ],
   "source": [
    "name = input(\"vad är ditt namn?\")\n",
    "age = input(\"hur gammal är du?\")\n",
    "print(f\"{name} är {age} år gammal\")"
   ]
  },
  {
   "cell_type": "markdown",
   "id": "38847c56",
   "metadata": {},
   "source": [
    "type coercions"
   ]
  },
  {
   "cell_type": "markdown",
   "id": "caacaf5c",
   "metadata": {},
   "source": [
    "force"
   ]
  },
  {
   "cell_type": "code",
   "execution_count": 5,
   "id": "b76a87e8",
   "metadata": {},
   "outputs": [
    {
     "name": "stdout",
     "output_type": "stream",
     "text": [
      "din tyngdkraft är 716.86 N\n",
      "din tyngdkraft är 716.9N\n"
     ]
    }
   ],
   "source": [
    "gravity = 9.82\n",
    "mass = float(input(\"ange din vikt i kg: \"))\n",
    "force = mass * gravity\n",
    "print(f\"din tyngdkraft är {force} N\")\n",
    "\n",
    "print(f\"din tyngdkraft är {force:.1f}N\")"
   ]
  },
  {
   "cell_type": "markdown",
   "id": "e8472b85",
   "metadata": {},
   "source": [
    "circle geometry"
   ]
  },
  {
   "cell_type": "code",
   "execution_count": 6,
   "id": "71997393",
   "metadata": {},
   "outputs": [
    {
     "name": "stdout",
     "output_type": "stream",
     "text": [
      "En cirkel med radien 2.0m har arean  12.57m^2 och omkretsen  12.57m\n"
     ]
    }
   ],
   "source": [
    "import math\n",
    "\n",
    "radius = float(input(\"ange radien på cirkeln i meter: \"))\n",
    "area =math.pi * radius**2\n",
    "circumference = 2 * math.pi * radius\n",
    "\n",
    "print(f\"En cirkel med radien {radius}m har arean {area: .2f}m^2 och omkretsen {circumference: .2f}m\")"
   ]
  },
  {
   "cell_type": "markdown",
   "id": "275c03d8",
   "metadata": {},
   "source": [
    "more on data types"
   ]
  },
  {
   "cell_type": "code",
   "execution_count": 1,
   "id": "715efd3a",
   "metadata": {},
   "outputs": [
    {
     "name": "stdout",
     "output_type": "stream",
     "text": [
      "radius =7\n",
      "geometry ='circle'\n",
      "is_unit_circle =False\n",
      "screen_inches =6.4\n"
     ]
    },
    {
     "data": {
      "text/plain": [
       "(int, str, bool, float)"
      ]
     },
     "execution_count": 1,
     "metadata": {},
     "output_type": "execute_result"
    }
   ],
   "source": [
    "radius = 7\n",
    "geometry = \"circle\"\n",
    "is_unit_circle = False\n",
    "screen_inches = 6.4\n",
    "\n",
    "print(f\"{radius =}\")\n",
    "print(f\"{geometry =}\")\n",
    "print(f\"{is_unit_circle =}\")\n",
    "print(f\"{screen_inches =}\")\n",
    "\n",
    "type(radius), type(geometry), type(is_unit_circle), type(screen_inches)"
   ]
  }
 ],
 "metadata": {
  "kernelspec": {
   "display_name": "python_de_25_hannah_zemack",
   "language": "python",
   "name": "python3"
  },
  "language_info": {
   "codemirror_mode": {
    "name": "ipython",
    "version": 3
   },
   "file_extension": ".py",
   "mimetype": "text/x-python",
   "name": "python",
   "nbconvert_exporter": "python",
   "pygments_lexer": "ipython3",
   "version": "3.12.10"
  }
 },
 "nbformat": 4,
 "nbformat_minor": 5
}
