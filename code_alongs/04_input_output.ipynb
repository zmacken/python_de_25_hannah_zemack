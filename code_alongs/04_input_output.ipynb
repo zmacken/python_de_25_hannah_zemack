{
 "cells": [
  {
   "cell_type": "markdown",
   "id": "51e3d431",
   "metadata": {},
   "source": [
    "print statement"
   ]
  },
  {
   "cell_type": "code",
   "execution_count": 1,
   "id": "9ce50b75",
   "metadata": {},
   "outputs": [
    {
     "name": "stdout",
     "output_type": "stream",
     "text": [
      "hello world\n",
      "my name is Hannah\n"
     ]
    }
   ],
   "source": [
    "print(\"hello world\")\n",
    "print(\"my name is Hannah\")"
   ]
  },
  {
   "cell_type": "markdown",
   "id": "073dcca1",
   "metadata": {},
   "source": [
    "variables"
   ]
  },
  {
   "cell_type": "code",
   "execution_count": 2,
   "id": "1e31535a",
   "metadata": {},
   "outputs": [
    {
     "name": "stdout",
     "output_type": "stream",
     "text": [
      "my name is Hannah Zemack\n",
      "my age is 23\n",
      "more specific age is 23.5\n"
     ]
    }
   ],
   "source": [
    "firstname = \"Hannah\"\n",
    "lastname = \"Zemack\"\n",
    "age = 23\n",
    "\n",
    "print(f\"my name is {firstname} {lastname}\")\n",
    "print(f\"my age is {age}\")\n",
    "\n",
    "age= 23.5\n",
    "print(f\"more specific age is {age}\")"
   ]
  },
  {
   "cell_type": "markdown",
   "id": "4de7c986",
   "metadata": {},
   "source": [
    "input from user"
   ]
  },
  {
   "cell_type": "code",
   "execution_count": 3,
   "id": "e28ef5df",
   "metadata": {},
   "outputs": [
    {
     "name": "stdout",
     "output_type": "stream",
     "text": [
      "hannah är 23 år gammal\n"
     ]
    }
   ],
   "source": [
    "name = input(\"vad är ditt namn?\")\n",
    "age = input(\"hur gammal är du?\")\n",
    "print(f\"{name} är {age} år gammal\")"
   ]
  },
  {
   "cell_type": "markdown",
   "id": "38847c56",
   "metadata": {},
   "source": [
    "type coercions"
   ]
  },
  {
   "cell_type": "code",
   "execution_count": null,
   "id": "b76a87e8",
   "metadata": {},
   "outputs": [],
   "source": []
  }
 ],
 "metadata": {
  "kernelspec": {
   "display_name": "Python 3",
   "language": "python",
   "name": "python3"
  },
  "language_info": {
   "codemirror_mode": {
    "name": "ipython",
    "version": 3
   },
   "file_extension": ".py",
   "mimetype": "text/x-python",
   "name": "python",
   "nbconvert_exporter": "python",
   "pygments_lexer": "ipython3",
   "version": "3.12.10"
  }
 },
 "nbformat": 4,
 "nbformat_minor": 5
}
