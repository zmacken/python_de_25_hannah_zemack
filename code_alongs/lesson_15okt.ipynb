{
 "cells": [
  {
   "cell_type": "markdown",
   "id": "95602dce",
   "metadata": {},
   "source": [
    "15 okt lektion classes"
   ]
  },
  {
   "cell_type": "code",
   "execution_count": 7,
   "id": "6eb9b364",
   "metadata": {},
   "outputs": [
    {
     "name": "stdout",
     "output_type": "stream",
     "text": [
      "dunder init running\n"
     ]
    },
    {
     "data": {
      "text/plain": [
       "'Sti'"
      ]
     },
     "execution_count": 7,
     "metadata": {},
     "output_type": "execute_result"
    }
   ],
   "source": [
    "\n",
    "#definiera en klass med namndet admission\n",
    "class Admission: #skapa klass\n",
    "\n",
    "    #skapa 'dunder init' - initializer, två understreck före och efter\n",
    "    #det här blir det första som körs först när man gör en instance av denna klass\n",
    "    def __init__(self, school, name, program = 'program'): #definiera vilka attribut som finns i klassen\n",
    "        print('dunder init running')\n",
    "        #sätt atribut för values från arguments\n",
    "        self.school = school\n",
    "        self.name = name\n",
    "        self.program =program\n",
    "\n",
    "\n",
    "person1 = Admission('Sti', 'Ceda') #instance av klassen av typ admission\n",
    "\n",
    "person1.school\n",
    "\n"
   ]
  },
  {
   "cell_type": "code",
   "execution_count": 8,
   "id": "c23d1a38",
   "metadata": {},
   "outputs": [
    {
     "data": {
      "text/plain": [
       "'program'"
      ]
     },
     "execution_count": 8,
     "metadata": {},
     "output_type": "execute_result"
    }
   ],
   "source": [
    "person1.program"
   ]
  },
  {
   "cell_type": "code",
   "execution_count": 9,
   "id": "d92ef27c",
   "metadata": {},
   "outputs": [
    {
     "name": "stdout",
     "output_type": "stream",
     "text": [
      "dunder init running\n"
     ]
    },
    {
     "data": {
      "text/plain": [
       "'hannah'"
      ]
     },
     "execution_count": 9,
     "metadata": {},
     "output_type": "execute_result"
    }
   ],
   "source": [
    "person2 = Admission(name='hannah', school='sti', program='data engineer')\n",
    "\n",
    "person2.name"
   ]
  },
  {
   "cell_type": "code",
   "execution_count": 32,
   "id": "d2e60e00",
   "metadata": {},
   "outputs": [
    {
     "data": {
      "text/plain": [
       "Student(name = hannah)"
      ]
     },
     "execution_count": 32,
     "metadata": {},
     "output_type": "execute_result"
    }
   ],
   "source": [
    "class Student:\n",
    "    def __init__(self, name, school, age, type_of_study = 'none', Pass = 'y'):\n",
    "        self.name = name\n",
    "        self.type_of_study = type_of_study\n",
    "        self.Pass = Pass\n",
    "        self.school = school\n",
    "        self.age = age\n",
    "\n",
    "    def __str__(self):\n",
    "        return f'{self.name} är personens namn'\n",
    "\n",
    "\n",
    "    def __repr__(self):\n",
    "        return f'Student(name = {self.name})'\n",
    "\n",
    "\n",
    "\n",
    "student1 = Student(name='hannah', school='sti', age='12')\n",
    "student1\n",
    "\n",
    "\n"
   ]
  },
  {
   "cell_type": "code",
   "execution_count": null,
   "id": "d762d181",
   "metadata": {},
   "outputs": [],
   "source": []
  },
  {
   "cell_type": "code",
   "execution_count": null,
   "id": "aecbdd6e",
   "metadata": {},
   "outputs": [],
   "source": []
  }
 ],
 "metadata": {
  "kernelspec": {
   "display_name": "python_de_25_hannah_zemack",
   "language": "python",
   "name": "python3"
  },
  "language_info": {
   "codemirror_mode": {
    "name": "ipython",
    "version": 3
   },
   "file_extension": ".py",
   "mimetype": "text/x-python",
   "name": "python",
   "nbconvert_exporter": "python",
   "pygments_lexer": "ipython3",
   "version": "3.12.10"
  }
 },
 "nbformat": 4,
 "nbformat_minor": 5
}
