{
 "cells": [
  {
   "cell_type": "markdown",
   "id": "95602dce",
   "metadata": {},
   "source": [
    "15 okt lektion classes"
   ]
  },
  {
   "cell_type": "code",
   "execution_count": null,
   "id": "6eb9b364",
   "metadata": {},
   "outputs": [
    {
     "data": {
      "text/plain": [
       "'Sti'"
      ]
     },
     "execution_count": 1,
     "metadata": {},
     "output_type": "execute_result"
    }
   ],
   "source": [
    "class Admission:\n",
    "    def __init__(self, school, name):\n",
    "        self.school = school\n",
    "        self.name = name\n",
    "\n",
    "\n",
    "person1 = Admission('Sti', 'Ceda')\n",
    "\n",
    "person1.school\n",
    "\n"
   ]
  }
 ],
 "metadata": {
  "kernelspec": {
   "display_name": "python_de_25_hannah_zemack",
   "language": "python",
   "name": "python3"
  },
  "language_info": {
   "codemirror_mode": {
    "name": "ipython",
    "version": 3
   },
   "file_extension": ".py",
   "mimetype": "text/x-python",
   "name": "python",
   "nbconvert_exporter": "python",
   "pygments_lexer": "ipython3",
   "version": "3.12.10"
  }
 },
 "nbformat": 4,
 "nbformat_minor": 5
}
