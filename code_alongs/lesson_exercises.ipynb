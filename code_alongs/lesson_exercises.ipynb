{
 "cells": [
  {
   "cell_type": "code",
   "execution_count": 6,
   "id": "00b2baf3",
   "metadata": {},
   "outputs": [
    {
     "name": "stdout",
     "output_type": "stream",
     "text": [
      "du ska betala  14 kr\n"
     ]
    }
   ],
   "source": [
    "apple = 10\n",
    "user = input(\"skriv v fört vanlig, s för student eller p för pensionär:\")\n",
    "antal = int(input(\"skriv in antal äpplen du vill köpa: \") )\n",
    "\n",
    "total_pris = apple * antal\n",
    "\n",
    "if user == \"s\":\n",
    "    s_off = total_pris * 0.7\n",
    "    print(f\"du ska betala {s_off: .0f} kr\")\n",
    "elif user == \"p\":\n",
    "    p_off = total_pris * 0.5\n",
    "    print(f\"Du ska betala {p_off: .0f} kr\")\n",
    "else:\n",
    "    print(f\"du får ingen rabatt. Betala {total_pris} kr\")"
   ]
  }
 ],
 "metadata": {
  "kernelspec": {
   "display_name": "python_de_25_hannah_zemack",
   "language": "python",
   "name": "python3"
  },
  "language_info": {
   "codemirror_mode": {
    "name": "ipython",
    "version": 3
   },
   "file_extension": ".py",
   "mimetype": "text/x-python",
   "name": "python",
   "nbconvert_exporter": "python",
   "pygments_lexer": "ipython3",
   "version": "3.12.10"
  }
 },
 "nbformat": 4,
 "nbformat_minor": 5
}
