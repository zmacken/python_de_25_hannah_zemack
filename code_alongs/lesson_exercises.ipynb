{
 "cells": [
  {
   "cell_type": "code",
   "execution_count": 7,
   "id": "00b2baf3",
   "metadata": {},
   "outputs": [
    {
     "ename": "ValueError",
     "evalue": "invalid literal for int() with base 10: ''",
     "output_type": "error",
     "traceback": [
      "\u001b[31m---------------------------------------------------------------------------\u001b[39m",
      "\u001b[31mValueError\u001b[39m                                Traceback (most recent call last)",
      "\u001b[36mCell\u001b[39m\u001b[36m \u001b[39m\u001b[32mIn[7]\u001b[39m\u001b[32m, line 3\u001b[39m\n\u001b[32m      1\u001b[39m apple = \u001b[32m10\u001b[39m\n\u001b[32m      2\u001b[39m user = \u001b[38;5;28minput\u001b[39m(\u001b[33m\"\u001b[39m\u001b[33mskriv v fört vanlig, s för student eller p för pensionär:\u001b[39m\u001b[33m\"\u001b[39m)\n\u001b[32m----> \u001b[39m\u001b[32m3\u001b[39m antal = \u001b[38;5;28;43mint\u001b[39;49m\u001b[43m(\u001b[49m\u001b[38;5;28;43minput\u001b[39;49m\u001b[43m(\u001b[49m\u001b[33;43m\"\u001b[39;49m\u001b[33;43mskriv in antal äpplen du vill köpa: \u001b[39;49m\u001b[33;43m\"\u001b[39;49m\u001b[43m)\u001b[49m\u001b[43m \u001b[49m\u001b[43m)\u001b[49m\n\u001b[32m      5\u001b[39m total_pris = apple * antal\n\u001b[32m      7\u001b[39m \u001b[38;5;28;01mif\u001b[39;00m user == \u001b[33m\"\u001b[39m\u001b[33ms\u001b[39m\u001b[33m\"\u001b[39m:\n",
      "\u001b[31mValueError\u001b[39m: invalid literal for int() with base 10: ''"
     ]
    }
   ],
   "source": [
    "apple = 10\n",
    "user = input(\"skriv v fört vanlig, s för student eller p för pensionär:\")\n",
    "antal = int(input(\"skriv in antal äpplen du vill köpa: \") )\n",
    "\n",
    "total_pris = apple * antal\n",
    "\n",
    "if user == \"s\":\n",
    "    s_off = total_pris * 0.7\n",
    "    print(f\"du ska betala {s_off: .0f} kr\")\n",
    "elif user == \"p\":\n",
    "    p_off = total_pris * 0.5\n",
    "    print(f\"Du ska betala {p_off: .0f} kr\")\n",
    "else:\n",
    "    print(f\"du får ingen rabatt. Betala {total_pris} kr\")"
   ]
  }
 ],
 "metadata": {
  "kernelspec": {
   "display_name": "python_de_25_hannah_zemack",
   "language": "python",
   "name": "python3"
  },
  "language_info": {
   "codemirror_mode": {
    "name": "ipython",
    "version": 3
   },
   "file_extension": ".py",
   "mimetype": "text/x-python",
   "name": "python",
   "nbconvert_exporter": "python",
   "pygments_lexer": "ipython3",
   "version": "3.12.10"
  }
 },
 "nbformat": 4,
 "nbformat_minor": 5
}
