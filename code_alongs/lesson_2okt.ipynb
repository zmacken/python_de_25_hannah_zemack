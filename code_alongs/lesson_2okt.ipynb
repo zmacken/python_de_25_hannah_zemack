{
 "cells": [
  {
   "cell_type": "markdown",
   "id": "91bfa3f5",
   "metadata": {},
   "source": [
    "concatenate strings\n",
    "concatenate multiple strings with + operator\n",
    "+ has another mening wehn comes to numeric variables"
   ]
  },
  {
   "cell_type": "code",
   "execution_count": 3,
   "id": "346dc3d2",
   "metadata": {},
   "outputs": [
    {
     "name": "stdout",
     "output_type": "stream",
     "text": [
      "Hannah Zemack\n"
     ]
    }
   ],
   "source": [
    "firstname =\"Hannah\"\n",
    "lastname = \"Zemack\"\n",
    "\n",
    "fullname = firstname + \" \" + lastname\n",
    "\n",
    "print(fullname)"
   ]
  }
 ],
 "metadata": {
  "kernelspec": {
   "display_name": "python_de_25_hannah_zemack",
   "language": "python",
   "name": "python3"
  },
  "language_info": {
   "codemirror_mode": {
    "name": "ipython",
    "version": 3
   },
   "file_extension": ".py",
   "mimetype": "text/x-python",
   "name": "python",
   "nbconvert_exporter": "python",
   "pygments_lexer": "ipython3",
   "version": "3.12.10"
  }
 },
 "nbformat": 4,
 "nbformat_minor": 5
}
