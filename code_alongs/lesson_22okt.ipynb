{
 "cells": [
  {
   "cell_type": "markdown",
   "id": "85b20d30",
   "metadata": {},
   "source": [
    "oop is a programming paradigm that organizes software design around objects. \n",
    "\n",
    "dry = don't repeat yourself\n",
    "\n",
    "oop -> structure -> modular -> reuse code (dry)\n",
    "\n",
    "oop -> domain modeling -> abstraction -> hide implementation (group similar behavior together)\n",
    "\n",
    "we instantiate instaces from a class:\n",
    "\n",
    "in a class you can attributes and methods. Methods most of the tie means behavior. What can you do with the class"
   ]
  },
  {
   "cell_type": "code",
   "execution_count": null,
   "id": "d181544b",
   "metadata": {},
   "outputs": [
    {
     "data": {
      "text/plain": [
       "'Hannah'"
      ]
     },
     "execution_count": 2,
     "metadata": {},
     "output_type": "execute_result"
    }
   ],
   "source": [
    "class Person:\n",
    "    def __init__(self, name, age, height, weight): \n",
    "        self.name = name\n",
    "        self.age = age\n",
    "        self.heght = height\n",
    "        self.weight = weight\n",
    "\n",
    "person1 = Person('Hannah', 23, 160, '' ) #instance of class also called objects\n",
    "\n",
    "person1.name\n"
   ]
  },
  {
   "cell_type": "markdown",
   "id": "dc2ba794",
   "metadata": {},
   "source": [
    "Inheritance to model the domain and resue the code. You can hace a new class that inherits from previous class. \n",
    "\n",
    "ex\n",
    "Class Person (1)\n",
    "Class Patient (2) is a person\n",
    "Class Doctor (3) is a person"
   ]
  }
 ],
 "metadata": {
  "kernelspec": {
   "display_name": "python_de_25_hannah_zemack",
   "language": "python",
   "name": "python3"
  },
  "language_info": {
   "codemirror_mode": {
    "name": "ipython",
    "version": 3
   },
   "file_extension": ".py",
   "mimetype": "text/x-python",
   "name": "python",
   "nbconvert_exporter": "python",
   "pygments_lexer": "ipython3",
   "version": "3.12.10"
  }
 },
 "nbformat": 4,
 "nbformat_minor": 5
}
