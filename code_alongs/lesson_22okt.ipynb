{
 "cells": [
  {
   "cell_type": "markdown",
   "id": "85b20d30",
   "metadata": {},
   "source": [
    "oop is a programming paradigm that organizes software design around objects. \n",
    "\n",
    "dry = don't repeat yourself\n",
    "\n",
    "oop -> structure -> modular -> reuse code (dry)\n",
    "\n",
    "oop -> domain modeling -> abstraction -> hide implementation (group similar behavior together)\n",
    "\n",
    "we instantiate instaces from a class:\n",
    "\n",
    "in a class you can attributes and methods. Methods most of the tie means behavior. What can you do with the class"
   ]
  },
  {
   "cell_type": "code",
   "execution_count": null,
   "id": "d181544b",
   "metadata": {},
   "outputs": [
    {
     "data": {
      "text/plain": [
       "'Hannah'"
      ]
     },
     "execution_count": 2,
     "metadata": {},
     "output_type": "execute_result"
    }
   ],
   "source": [
    "class Person:\n",
    "    def __init__(self, name, age, height, weight): \n",
    "        self.name = name\n",
    "        self.age = age\n",
    "        self.heght = height\n",
    "        self.weight = weight\n",
    "\n",
    "person1 = Person('Hannah', 23, 160, '' ) #instance of class also called objects\n",
    "\n",
    "person1.name\n"
   ]
  },
  {
   "cell_type": "markdown",
   "id": "dc2ba794",
   "metadata": {},
   "source": [
    "Inheritance to model the domain and resue the code. You can hace a new class that inherits from previous class. \n",
    "\n",
    "ex\n",
    "Class Person (1)\n",
    "Class Patient (2) is a person\n",
    "Class Doctor (3) is a person"
   ]
  },
  {
   "cell_type": "markdown",
   "id": "f0cde872",
   "metadata": {},
   "source": [
    "exploring the module old coins"
   ]
  },
  {
   "cell_type": "code",
   "execution_count": 3,
   "id": "1d7b1448",
   "metadata": {},
   "outputs": [
    {
     "data": {
      "text/plain": [
       "OldCoinsStash(owner='Hannah')"
      ]
     },
     "execution_count": 3,
     "metadata": {},
     "output_type": "execute_result"
    }
   ],
   "source": [
    "from old_coins import OldCoinsStash\n",
    "\n",
    "stash_hannah = OldCoinsStash('Hannah')\n",
    "stash_hannah\n",
    "\n"
   ]
  },
  {
   "cell_type": "code",
   "execution_count": 4,
   "id": "d2f7677c",
   "metadata": {},
   "outputs": [
    {
     "data": {
      "text/plain": [
       "'Coins in stash: 0 riksdaler, 0 skilling'"
      ]
     },
     "execution_count": 4,
     "metadata": {},
     "output_type": "execute_result"
    }
   ],
   "source": [
    "stash_hannah.check_balance()"
   ]
  },
  {
   "cell_type": "code",
   "execution_count": 5,
   "id": "755b0ca0",
   "metadata": {},
   "outputs": [
    {
     "data": {
      "text/plain": [
       "'Coins in stash: 50 riksdaler, 10 skilling'"
      ]
     },
     "execution_count": 5,
     "metadata": {},
     "output_type": "execute_result"
    }
   ],
   "source": [
    "stash_hannah.deposit(50,10)\n",
    "stash_hannah.check_balance()"
   ]
  }
 ],
 "metadata": {
  "kernelspec": {
   "display_name": "python_de_25_hannah_zemack",
   "language": "python",
   "name": "python3"
  },
  "language_info": {
   "codemirror_mode": {
    "name": "ipython",
    "version": 3
   },
   "file_extension": ".py",
   "mimetype": "text/x-python",
   "name": "python",
   "nbconvert_exporter": "python",
   "pygments_lexer": "ipython3",
   "version": "3.12.10"
  }
 },
 "nbformat": 4,
 "nbformat_minor": 5
}
