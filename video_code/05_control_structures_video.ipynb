{
 "cells": [
  {
   "cell_type": "markdown",
   "id": "413ee7b8",
   "metadata": {},
   "source": [
    "if-statement"
   ]
  },
  {
   "cell_type": "code",
   "execution_count": 2,
   "id": "8a2c9b3a",
   "metadata": {},
   "outputs": [
    {
     "name": "stdout",
     "output_type": "stream",
     "text": [
      "enjoy\n"
     ]
    }
   ],
   "source": [
    "age = int(input(\"enter your age: \"))\n",
    "age_limit = 15\n",
    "\n",
    "if age < age_limit:\n",
    "    print(\"Sorry, you are to young to attend this scary movie\")\n",
    "    print(\"watch cartoons instead\")\n",
    "else:\n",
    "    print(\"enjoy\")"
   ]
  },
  {
   "cell_type": "code",
   "execution_count": 3,
   "id": "e5bc274b",
   "metadata": {},
   "outputs": [
    {
     "name": "stdout",
     "output_type": "stream",
     "text": [
      "welcome\n"
     ]
    }
   ],
   "source": [
    "age = 15\n",
    "height = 150\n",
    "\n",
    "if age > 11 and 130 < height < 210:\n",
    "    print(\"welcome\")\n",
    "else:\n",
    "    print(\"come back another time\")\n",
    "\n",
    "    "
   ]
  },
  {
   "cell_type": "code",
   "execution_count": 4,
   "id": "f26ba675",
   "metadata": {},
   "outputs": [
    {
     "name": "stdout",
     "output_type": "stream",
     "text": [
      "welcome\n"
     ]
    }
   ],
   "source": [
    "age = 15\n",
    "height = 130\n",
    "\n",
    "if age > 11 and 130 <= height < 210:\n",
    "    print(\"welcome\")\n",
    "else:\n",
    "    print(\"come back another time\")"
   ]
  },
  {
   "cell_type": "markdown",
   "id": "13bf35a7",
   "metadata": {},
   "source": [
    "modulo operator"
   ]
  },
  {
   "cell_type": "code",
   "execution_count": 6,
   "id": "fa8885cb",
   "metadata": {},
   "outputs": [
    {
     "name": "stdout",
     "output_type": "stream",
     "text": [
      "even number\n"
     ]
    }
   ],
   "source": [
    "number = 4\n",
    "if number % 2 == 0:\n",
    "    print(\"even number\")\n",
    "else:\n",
    "    print(\"odd number\")"
   ]
  },
  {
   "cell_type": "code",
   "execution_count": 9,
   "id": "30de9974",
   "metadata": {},
   "outputs": [
    {
     "name": "stdout",
     "output_type": "stream",
     "text": [
      "your number is an even number\n"
     ]
    }
   ],
   "source": [
    "number = int(input(\"input a number: \"))\n",
    "if number % 2 == 0:\n",
    "    print(\"your number is an even number\")\n",
    "else:\n",
    "    print(\"your number is an odd number\")"
   ]
  },
  {
   "cell_type": "code",
   "execution_count": 11,
   "id": "bd1bb74e",
   "metadata": {},
   "outputs": [
    {
     "name": "stdout",
     "output_type": "stream",
     "text": [
      "even number\n"
     ]
    }
   ],
   "source": [
    "number = 4\n",
    "if number % 2:\n",
    "    print(\"odd number\")\n",
    "else:\n",
    "    print(\"even number\")"
   ]
  },
  {
   "cell_type": "code",
   "execution_count": 13,
   "id": "00ac1ab0",
   "metadata": {},
   "outputs": [
    {
     "name": "stdout",
     "output_type": "stream",
     "text": [
      "hello\n"
     ]
    }
   ],
   "source": [
    "if[3]:\n",
    "    print(\"hello\")\n",
    "else:\n",
    "    print(\"false\")\n"
   ]
  },
  {
   "cell_type": "code",
   "execution_count": 16,
   "id": "c926e4bb",
   "metadata": {},
   "outputs": [
    {
     "name": "stdout",
     "output_type": "stream",
     "text": [
      "else\n"
     ]
    }
   ],
   "source": [
    "weight = 100\n",
    "\n",
    "if weight < 20:\n",
    "    print(\"20\")\n",
    "elif weight < 40:\n",
    "    print(\"40\")\n",
    "else:\n",
    "    print(\"else\")"
   ]
  }
 ],
 "metadata": {
  "kernelspec": {
   "display_name": "python_de_25_hannah_zemack",
   "language": "python",
   "name": "python3"
  },
  "language_info": {
   "codemirror_mode": {
    "name": "ipython",
    "version": 3
   },
   "file_extension": ".py",
   "mimetype": "text/x-python",
   "name": "python",
   "nbconvert_exporter": "python",
   "pygments_lexer": "ipython3",
   "version": "3.12.10"
  }
 },
 "nbformat": 4,
 "nbformat_minor": 5
}
